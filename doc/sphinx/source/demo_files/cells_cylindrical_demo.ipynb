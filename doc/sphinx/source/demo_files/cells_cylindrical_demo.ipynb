{
 "cells": [
  {
   "cell_type": "markdown",
   "metadata": {},
   "source": [
    "# Cells in a cylindrical geometry\n",
    "\n",
    "This demo shows cell arangement in a cylindrical geometry. The representation deals with cells in \n",
    "the x-y  plane at a given z slice. "
   ]
  },
  {
   "cell_type": "markdown",
   "metadata": {},
   "source": [
    "Import modules and load parfis lib"
   ]
  },
  {
   "cell_type": "code",
   "execution_count": null,
   "metadata": {},
   "outputs": [],
   "source": [
    "import parfis as pfs\n",
    "from parfis import Parfis\n",
    "import matplotlib.pyplot as plt\n",
    "import matplotlib.patches as patches\n",
    "\n",
    "Parfis.load_lib()"
   ]
  },
  {
   "cell_type": "markdown",
   "metadata": {},
   "source": [
    "Create simulation data"
   ]
  },
  {
   "cell_type": "code",
   "execution_count": null,
   "metadata": {},
   "outputs": [],
   "source": [
    "id = Parfis.newParfis()\n",
    "Parfis.loadCfgData(id)\n",
    "Parfis.loadSimData(id)\n",
    "success = Parfis.runCommandChain(id, \"create\")\n",
    "print(\"success\") if success == 0 else print(\"fail\")"
   ]
  },
  {
   "cell_type": "markdown",
   "metadata": {},
   "source": [
    "Get pointers to configuration and simulation data"
   ]
  },
  {
   "cell_type": "code",
   "execution_count": null,
   "metadata": {},
   "outputs": [],
   "source": [
    "Parfis.setPyCfgData(id)\n",
    "ptrCfgData = Parfis.getPyCfgData(id)\n",
    "Parfis.setPySimData(id)\n",
    "ptrSimData = Parfis.getPySimData(id)"
   ]
  },
  {
   "cell_type": "markdown",
   "metadata": {},
   "source": [
    "Get geometry and cell measures"
   ]
  },
  {
   "cell_type": "code",
   "execution_count": null,
   "metadata": {},
   "outputs": [],
   "source": [
    "cellSize =ptrCfgData.cellSize[0]\n",
    "geoSize =ptrCfgData.geometrySize[0]\n",
    "cellCount =ptrCfgData.cellCount[0]\n",
    "print(f\"cellSize = {cellSize} meters\")\n",
    "print(f\"geoSize = {geoSize} meters\")\n",
    "print(f\"cellCount = {cellCount}\")"
   ]
  },
  {
   "cell_type": "markdown",
   "metadata": {},
   "source": [
    "#### Get all cells in the x-y plane at z=10\n",
    " \n",
    "Every absolute id by value is `Const.noCellId` or a certain id that corresponds to the position in\n",
    "the vector of existing cells. We gather two vectors, one with absolute cell ids and one with\n",
    "real cell ids.\n",
    "\n",
    "Absolute id values $A_{id}$ are calculated according to the following formula:\n",
    "\n",
    "$$\n",
    "A_{id} = C_z C_y x + C_z y + z,\n",
    "$$\n",
    "\n",
    "where $C_x$, $C_y$ and $C_z$ are number of cells in the given direction and $x$, $y$ and $z$ are\n",
    "the components of the cell position vector. If geometry is cylindrical, then there are cells that\n",
    "lie outside the geometry. Cell outside of the geometry have real id that is equal to \n",
    "`Const.noCellIc` (the maximum `uint32` number)."
   ]
  },
  {
   "cell_type": "code",
   "execution_count": null,
   "metadata": {},
   "outputs": [],
   "source": [
    "cellPos = pfs.Vec3DClass(pfs.Type.cellPos_t)(z=10)\n",
    "absCellId = []     # Absolute cell ids\n",
    "realCellId = []    # Real cell ids\n",
    "boundCellId = []   # Cell ids that lie on the boundary\n",
    "print(f\"Cell pos               Abs. id    Rel. id      Cell pos from data\")\n",
    "print(f\"-----------------------------------------------------------------\")\n",
    "for i in range(cellCount.x):\n",
    "    cellPos.x = i\n",
    "    for j in range(cellCount.y):\n",
    "        cellPos.y = j\n",
    "        absCellId.append(pfs.getAbsoluteCellId(cellCount, cellPos))\n",
    "        cellId =ptrSimData.cellIdVec.ptr[absCellId[-1]]\n",
    "        cellPosFromData = None\n",
    "        if cellId != pfs.Const.noCellId:\n",
    "            realCellId.append(cellId)\n",
    "            cellPosFromData =ptrSimData.cellVec.ptr[cellId].pos\n",
    "            nodeFlag =ptrSimData.nodeFlagVec.ptr[cellId]\n",
    "            if nodeFlag != 0xFF:\n",
    "                boundCellId.append(cellId)\n",
    "        if i==0 and j < 10:\n",
    "            print(f\"{cellPos}    {absCellId[-1]:7}    {cellId:10}    {cellPosFromData}\")"
   ]
  },
  {
   "cell_type": "markdown",
   "metadata": {},
   "source": [
    "#### Draw all cells that exist in the simulation. \n",
    "\n",
    "Draw only cells that have relative id, because they exist in the `cellVec` vector."
   ]
  },
  {
   "cell_type": "code",
   "execution_count": null,
   "metadata": {},
   "outputs": [],
   "source": [
    "fig, ax = plt.subplots(figsize=(10, 10))\n",
    "ax.set_title(\"Existing cells in the simulation\")\n",
    "ax.plot()\n",
    "for cellId in realCellId:\n",
    "    pos =ptrSimData.cellVec.ptr[cellId].pos\n",
    "    ax.add_patch(\n",
    "        patches.Rectangle(\n",
    "            (cellSize.x*pos.x, cellSize.y*pos.y),\n",
    "            cellSize.x, cellSize.y,\n",
    "            edgecolor = 'blue',\n",
    "            alpha = 0.5,\n",
    "            fill=False\n",
    "        ) \n",
    "    )\n",
    "# Draw the geometry bound\n",
    "ax.add_patch(\n",
    "patches.Circle(\n",
    "    (geoSize.x*0.5, geoSize.y*0.5),\n",
    "    radius=geoSize.x*0.5,\n",
    "    lw = 2,\n",
    "    edgecolor = 'red',\n",
    "    alpha = 0.5,\n",
    "    fill=False\n",
    "    ) \n",
    ")\n",
    "ax.set_xlim(0 - cellSize.x, geoSize.x + cellSize.x)\n",
    "ax.set_ylim(0 - cellSize.y, geoSize.y + cellSize.y)\n",
    "ax.set_aspect('equal')\n",
    "plt.show()"
   ]
  },
  {
   "cell_type": "markdown",
   "metadata": {},
   "source": [
    "#### Represent cells that are not fully inside the geometry\n",
    "\n",
    "These cells have `nodeFlag` that is different than `uint8` max, which means that the cell has some \n",
    "nodes outside the boundary. Cells on the boundary are important for the interaction of particles \n",
    "and walls since for particles in these cells that interaction can occur."
   ]
  },
  {
   "cell_type": "code",
   "execution_count": null,
   "metadata": {},
   "outputs": [],
   "source": [
    "fig, ax = plt.subplots(figsize=(10, 10))\n",
    "ax.set_title(\"Cells on the boundary\")\n",
    "ax.plot()\n",
    "for cellId in boundCellId:\n",
    "    pos =ptrSimData.cellVec.ptr[cellId].pos\n",
    "    ax.add_patch(\n",
    "        patches.Rectangle(\n",
    "            (cellSize.x*pos.x, cellSize.y*pos.y),\n",
    "            cellSize.x, cellSize.y,\n",
    "            edgecolor = 'blue',\n",
    "            alpha = 0.5,\n",
    "            fill=False\n",
    "        ) \n",
    "    )\n",
    "# Draw the geometry bound\n",
    "ax.add_patch(\n",
    "patches.Circle(\n",
    "    (geoSize.x*0.5, geoSize.y*0.5),\n",
    "    radius=geoSize.x*0.5,\n",
    "    lw = 2,\n",
    "    edgecolor = 'red',\n",
    "    alpha = 0.5,\n",
    "    fill=False\n",
    "    ) \n",
    ")\n",
    "ax.set_xlim(0 - cellSize.x, geoSize.x + cellSize.x)\n",
    "ax.set_ylim(0 - cellSize.y, geoSize.y + cellSize.y)\n",
    "ax.set_aspect('equal')\n",
    "plt.show()"
   ]
  },
  {
   "cell_type": "markdown",
   "metadata": {},
   "source": [
    "#### Represent cells that have neighbours that are not fully inside the geometry\n",
    "\n",
    "If a particle finds itself in one of these cells then it can reach the boundary in one timestep. These cells are important since for them additional conditional must be checked (did the particle from the cell crossed a boundary). Since these cells are important, ids of the cells are stored in a separate vector, the \"B\" vector of cell id."
   ]
  },
  {
   "cell_type": "code",
   "execution_count": null,
   "metadata": {},
   "outputs": [],
   "source": [
    "fig, ax = plt.subplots(figsize=(10, 10))\n",
    "ax.set_title(\"Cells on the x-y boundary\")\n",
    "ax.plot()\n",
    "for i in range(ptrSimData.cellIdBVec.size):\n",
    "    cellId = ptrSimData.cellIdBVec.ptr[i]\n",
    "    pos = ptrSimData.cellVec.ptr[cellId].pos\n",
    "    if pos.z != 10:\n",
    "        continue\n",
    "    ax.add_patch(\n",
    "        patches.Rectangle(\n",
    "            (cellSize.x*pos.x, cellSize.y*pos.y),\n",
    "            cellSize.x, cellSize.y,\n",
    "            edgecolor = 'blue',\n",
    "            alpha = 0.5,\n",
    "            fill=False\n",
    "        ) \n",
    "    )\n",
    "# Draw the geometry bound\n",
    "ax.add_patch(\n",
    "patches.Circle(\n",
    "    (geoSize.x*0.5, geoSize.y*0.5),\n",
    "    radius=geoSize.x*0.5,\n",
    "    lw = 2,\n",
    "    edgecolor = 'red',\n",
    "    alpha = 0.5,\n",
    "    fill=False\n",
    "    ) \n",
    ")\n",
    "ax.set_xlim(0 - cellSize.x, geoSize.x + cellSize.x)\n",
    "ax.set_ylim(0 - cellSize.y, geoSize.y + cellSize.y)\n",
    "ax.set_aspect('equal')\n",
    "plt.show()"
   ]
  },
  {
   "cell_type": "markdown",
   "metadata": {},
   "source": [
    "Let's check the x-slice and the cells in the vicinity of the z-boundary"
   ]
  },
  {
   "cell_type": "code",
   "execution_count": null,
   "metadata": {},
   "outputs": [],
   "source": [
    "fig, ax = plt.subplots(1, 2, figsize=(20, 10))\n",
    "ax[0].set_title(\"Cells on the -z boundary\")\n",
    "ax[1].set_title(\"Cells on the +z boundary\")\n",
    "ax[0].plot()\n",
    "ax[1].plot()\n",
    "for i in range(ptrSimData.cellIdBVec.size):\n",
    "    cellId = ptrSimData.cellIdBVec.ptr[i]\n",
    "    pos = ptrSimData.cellVec.ptr[cellId].pos\n",
    "    if pos.x != cellCount.x//2:\n",
    "        continue\n",
    "    if pos.z < 5:\n",
    "        ax[0].add_patch(\n",
    "            patches.Rectangle(\n",
    "                (cellSize.z*pos.z, cellSize.y*pos.y),\n",
    "                cellSize.y, cellSize.z,\n",
    "                edgecolor = 'blue',\n",
    "                alpha = 0.5,\n",
    "                fill=False\n",
    "            ) \n",
    "        )\n",
    "    elif pos.z > cellCount.z-6:\n",
    "        ax[1].add_patch(\n",
    "            patches.Rectangle(\n",
    "                (cellSize.z*pos.z, cellSize.y*pos.y),\n",
    "                cellSize.y, cellSize.z,\n",
    "                edgecolor = 'blue',\n",
    "                alpha = 0.5,\n",
    "                fill=False\n",
    "            ) \n",
    "        )\n",
    "# Draw the geometry bound\n",
    "ax[0].add_patch(\n",
    "patches.Rectangle(\n",
    "    (0.0, 0.0), \n",
    "    geoSize.z, geoSize.y,\n",
    "    lw = 2,\n",
    "    edgecolor = 'red',\n",
    "    alpha = 0.5,\n",
    "    fill=False\n",
    "    ) \n",
    ")\n",
    "\n",
    "# Draw the geometry bound\n",
    "ax[1].add_patch(\n",
    "patches.Rectangle(\n",
    "    (0.0, 0.0), \n",
    "    geoSize.z, geoSize.y,\n",
    "    lw = 2,\n",
    "    edgecolor = 'red',\n",
    "    alpha = 0.5,\n",
    "    fill=False\n",
    "    ) \n",
    ")\n",
    "ax[0].set_xlim(0 - cellSize.z, cellSize.z*5)\n",
    "ax[0].set_ylim(0 - cellSize.y, geoSize.y + cellSize.y)\n",
    "ax[0].set_aspect('equal')\n",
    "ax[1].set_xlim((cellCount.z - 5)*cellSize.z, (cellCount.z + 1)*cellSize.z)\n",
    "ax[1].set_ylim(0 - cellSize.y, geoSize.y + cellSize.y)\n",
    "ax[1].set_aspect('equal')\n",
    "plt.show()"
   ]
  }
 ],
 "metadata": {
  "interpreter": {
   "hash": "c3d7cc4c063f80c7c04d97d56596b2d82231574513951413ddca575e7e35dfab"
  },
  "kernelspec": {
   "display_name": "Python 3.9.12 ('parfis')",
   "language": "python",
   "name": "python3"
  },
  "language_info": {
   "codemirror_mode": {
    "name": "ipython",
    "version": 3
   },
   "file_extension": ".py",
   "mimetype": "text/x-python",
   "name": "python",
   "nbconvert_exporter": "python",
   "pygments_lexer": "ipython3",
   "version": "3.9.12"
  }
 },
 "nbformat": 4,
 "nbformat_minor": 4
}
