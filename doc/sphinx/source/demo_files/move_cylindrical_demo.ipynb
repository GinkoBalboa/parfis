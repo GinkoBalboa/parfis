{
 "cells": [
  {
   "cell_type": "markdown",
   "metadata": {},
   "source": [
    "# Movement of particles in cylindrical geometry\n",
    "\n",
    "This demo shows the movement of particles and reflection from walls.\n",
    "\n",
    "#### Prepare simulation\n",
    "\n",
    "Import libraries, create default configuration and get pointers to data."
   ]
  },
  {
   "cell_type": "code",
   "execution_count": 1,
   "metadata": {},
   "outputs": [
    {
     "name": "stdout",
     "output_type": "stream",
     "text": [
      "Successfully loaded lib file: libparfis64.so\n",
      "Create success\n",
      "cellSize = {x: 0.001, y: 0.001, z: 0.001} meters\n",
      "geoSize = {x: 0.02, y: 0.02, z: 0.4} meters\n",
      "cellCount = {x: 20, y: 20, z: 400}\n"
     ]
    }
   ],
   "source": [
    "import parfis as pfs\n",
    "from parfis import Parfis\n",
    "import matplotlib.pyplot as plt\n",
    "import matplotlib.patches as patches\n",
    "from matplotlib import animation\n",
    "from copy import copy\n",
    "\n",
    "Parfis.load_lib()\n",
    "id = Parfis.newParfis()\n",
    "Parfis.loadCfgData(id)\n",
    "Parfis.loadSimData(id)\n",
    "success = Parfis.runCommandChain(id, \"create\")\n",
    "print(\"Create success\") if success == 0 else print(\"Create fail\")\n",
    "Parfis.setPyCfgData(id)\n",
    "ptrCfgData = Parfis.getPyCfgData(id)\n",
    "Parfis.setPySimData(id)\n",
    "ptrSimData = Parfis.getPySimData(id)\n",
    "cellSize =ptrCfgData.cellSize[0]\n",
    "geoSize =ptrCfgData.geometrySize[0]\n",
    "cellCount =ptrCfgData.cellCount[0]\n",
    "print(f\"cellSize = {cellSize} meters\")\n",
    "print(f\"geoSize = {geoSize} meters\")\n",
    "print(f\"cellCount = {cellCount}\")"
   ]
  },
  {
   "cell_type": "markdown",
   "metadata": {},
   "source": [
    "Choose some cells that are on the boundary."
   ]
  },
  {
   "cell_type": "code",
   "execution_count": 2,
   "metadata": {},
   "outputs": [
    {
     "name": "stdout",
     "output_type": "stream",
     "text": [
      "Selected 11 for presentation\n"
     ]
    },
    {
     "data": {
      "image/png": "[encoded data removed]",
      "text/plain": [
       "<Figure size 720x720 with 1 Axes>"
      ]
     },
     "metadata": {
      "needs_background": "light"
     },
     "output_type": "display_data"
    }
   ],
   "source": [
    "zSlice = 100\n",
    "xRange = [i for i in range(15, 20)]\n",
    "yRange = [i for i in range(15, 20)]\n",
    "cellPos = pfs.Vec3DClass(pfs.Type.cellPos_t)(z=zSlice)\n",
    "cellIdRange = []\n",
    "for i in xRange:\n",
    "    cellPos.x = i\n",
    "    for j in yRange:\n",
    "        cellPos.y = j\n",
    "        cellId =ptrSimData.cellIdVec.ptr[pfs.getAbsoluteCellId(cellCount, cellPos)]\n",
    "        if cellId != pfs.Const.noCellId:\n",
    "            cellIdRange.append(cellId)\n",
    "print(f\"Selected {len(cellIdRange)} for presentation\")\n",
    "\n",
    "# Save grid patches for later drawings\n",
    "\n",
    "# Draw the cells\n",
    "fig, axGrid = plt.subplots(figsize=(10, 10))\n",
    "axGrid.set_title(\"Cells for representing moving particles\")\n",
    "axGrid.plot()\n",
    "\n",
    "gridPatches = []\n",
    "for cellId in cellIdRange:\n",
    "    pos =ptrSimData.cellVec.ptr[cellId].pos\n",
    "    gridPatches.append (\n",
    "        patches.Rectangle(\n",
    "            (cellSize.x*pos.x, cellSize.y*pos.y),\n",
    "            cellSize.x, cellSize.y,\n",
    "            edgecolor = 'blue',\n",
    "            alpha = 0.5,\n",
    "            fill=False\n",
    "        ) \n",
    "    )\n",
    "# Draw the geometry bound\n",
    "gridPatches.append (\n",
    "patches.Circle(\n",
    "    (geoSize.x*0.5, geoSize.y*0.5),\n",
    "    radius=geoSize.x*0.5,\n",
    "    lw = 2,\n",
    "    edgecolor = 'red',\n",
    "    alpha = 0.5,\n",
    "    fill=False\n",
    "    ) \n",
    ")\n",
    "\n",
    "for i in range(len(gridPatches)):\n",
    "    axGrid.add_patch(copy(gridPatches[i]))\n",
    "axGrid.set_xlim((xRange[0] - 1)*cellSize.x, (xRange[-1] + 1)*cellSize.x)\n",
    "axGrid.set_ylim((yRange[0] - 1)*cellSize.y, (yRange[-1] + 1)*cellSize.y)\n",
    "axGrid.set_aspect('equal')\n",
    "plt.show()"
   ]
  },
  {
   "cell_type": "markdown",
   "metadata": {},
   "source": [
    "#### Evolve states and move particles"
   ]
  },
  {
   "cell_type": "code",
   "execution_count": 5,
   "metadata": {},
   "outputs": [],
   "source": [
    "# Number of frames to run the simulation\n",
    "numFrames = 0\n",
    "# Size of a particle in the animation\n",
    "particleSize = 0.01*cellSize.x\n",
    "# Save animation as mp4\n",
    "saveAnimation = False\n",
    "\n",
    "# Dictionary of the format {stateId: [patch, pushed]}\n",
    "knownState = dict()\n",
    "\n",
    "pc = ['blue', 'red']\n",
    "\n",
    "# Draw the cells\n",
    "fig, ax = plt.subplots(figsize=(10, 10))\n",
    "ax.set_title(\"Cells for representing moving particles\")\n",
    "ax.set_xlim((xRange[0] - 1)*cellSize.x, (xRange[-1] + 1)*cellSize.x)\n",
    "ax.set_ylim((yRange[0] - 1)*cellSize.y, (yRange[-1] + 1)*cellSize.y)\n",
    "ax.set_aspect('equal')\n",
    "\n",
    "for i in range(len(gridPatches)):\n",
    "    ax.add_patch(copy(gridPatches[i]))\n",
    "\n",
    "def update(i):\n",
    "    Parfis.runCommandChain(id, \"evolve\")\n",
    "\n",
    "    for stateId in knownState.keys():\n",
    "        knownState[stateId][1] = 0\n",
    "\n",
    "    for cid in cellIdRange:\n",
    "        xOff =ptrSimData.cellVec.ptr[cid].pos.x*cellSize.x\n",
    "        yOff =ptrSimData.cellVec.ptr[cid].pos.y*cellSize.y\n",
    "        stateId =ptrSimData.headIdVec.ptr[cid]\n",
    "        while stateId != pfs.Const.noStateId:\n",
    "            state =ptrSimData.stateVec.ptr[stateId]\n",
    "            # If new state - add patch for it\n",
    "            if stateId not in knownState.keys():\n",
    "                ax.add_patch(\n",
    "                    patches.Circle(\n",
    "                        (\n",
    "                            state.pos.x*cellSize.x + xOff, \n",
    "                            state.pos.y*cellSize.y + yOff),\n",
    "                        radius=particleSize,\n",
    "                        color=\"green\",\n",
    "                        fill=True\n",
    "                    )\n",
    "                )\n",
    "                knownState[stateId] = [ax.patches[-1], 1]\n",
    "            else:\n",
    "                knownState[stateId][1] = 1\n",
    "                knownState[stateId][0].center = (\n",
    "                    state.pos.x*cellSize.x + xOff, \n",
    "                    state.pos.y*cellSize.y + yOff)\n",
    "\n",
    "            stateId = state.next\n",
    "\n",
    "    for stateId in list(knownState):\n",
    "        if knownState[stateId][1] == 0:\n",
    "            ax.patches.remove(knownState[stateId][0])\n",
    "            del knownState[stateId]\n",
    "\n",
    "    return ax.patches + ax.texts\n",
    "\n",
    "\n",
    "anim = animation.FuncAnimation(fig, update, frames=numFrames, blit=True, interval=50)\n",
    "\n",
    "# fig.axes.append(axGrid)\n",
    "\n",
    "if saveAnimation:\n",
    "    from IPython import display\n",
    "    plt.ioff()\n",
    "    # plt.rcParams()\n",
    "    video = anim.to_html5_video()\n",
    "    html = display.HTML(video)\n",
    "    display.display(html)\n",
    "    plt.close()\n",
    "        # Writer = animation.writers['ffmpeg']\n",
    "        # writer = Writer(fps=30, metadata=dict(artist='parfis'), bitrate=7200)\n",
    "        # anim.save('demo_move_cylindrical.mp4', writer=writer)\n",
    "else:\n",
    "    plt.show()"
   ]
  }
 ],
 "metadata": {
  "interpreter": {
   "hash": "31f2aee4e71d21fbe5cf8b01ff0e069b9275f58929596ceb00d14d90e3e16cd6"
  },
  "kernelspec": {
   "display_name": "Python 3.8.10 64-bit",
   "language": "python",
   "name": "python3"
  },
  "language_info": {
   "codemirror_mode": {
    "name": "ipython",
    "version": 3
   },
   "file_extension": ".py",
   "mimetype": "text/x-python",
   "name": "python",
   "nbconvert_exporter": "python",
   "pygments_lexer": "ipython3",
   "version": "3.8.10"
  },
  "orig_nbformat": 4
 },
 "nbformat": 4,
 "nbformat_minor": 2
}
