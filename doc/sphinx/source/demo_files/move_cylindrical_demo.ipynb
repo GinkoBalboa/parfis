{
 "cells": [
  {
   "cell_type": "markdown",
   "metadata": {},
   "source": [
    "# Movement of particles in cylindrical geometry\n",
    "\n",
    "This demo shows the movement of particles and reflection from walls.\n",
    "\n",
    "#### Prepare simulation\n",
    "\n",
    "Import libraries, create default configuration and get pointers to data."
   ]
  },
  {
   "cell_type": "code",
   "execution_count": 1,
   "metadata": {},
   "outputs": [
    {
     "name": "stdout",
     "output_type": "stream",
     "text": [
      "Successfully loaded lib file: libparfis64.so\n",
      "Create success\n",
      "cellSize = {x: 0.001, y: 0.001, z: 0.001} meters\n",
      "geoSize = {x: 0.02, y: 0.02, z: 0.4} meters\n",
      "cellCount = {x: 20, y: 20, z: 400}\n"
     ]
    }
   ],
   "source": [
    "import parfis as pfs\n",
    "from parfis import Parfis\n",
    "import matplotlib.pyplot as plt\n",
    "import matplotlib.patches as patches\n",
    "from matplotlib import animation\n",
    "\n",
    "Parfis.load_lib()\n",
    "id = Parfis.newParfis()\n",
    "Parfis.loadCfgData(id)\n",
    "Parfis.loadSimData(id)\n",
    "success = Parfis.runCommandChain(id, \"create\")\n",
    "print(\"Create success\") if success == 0 else print(\"Create fail\")\n",
    "Parfis.setPyCfgData(id)\n",
    "ptrCfgData = Parfis.getPyCfgData(id)\n",
    "Parfis.setPySimData(id)\n",
    "ptrSimData = Parfis.getPySimData(id)\n",
    "cellSize = ptrCfgData[0].cellSize[0]\n",
    "geoSize = ptrCfgData[0].geometrySize[0]\n",
    "cellCount = ptrCfgData[0].cellCount[0]\n",
    "print(f\"cellSize = {cellSize} meters\")\n",
    "print(f\"geoSize = {geoSize} meters\")\n",
    "print(f\"cellCount = {cellCount}\")"
   ]
  },
  {
   "cell_type": "markdown",
   "metadata": {},
   "source": [
    "Choose some cells that are on the boundary."
   ]
  },
  {
   "cell_type": "code",
   "execution_count": 5,
   "metadata": {},
   "outputs": [
    {
     "name": "stdout",
     "output_type": "stream",
     "text": [
      "Selected 11 for presentation\n"
     ]
    },
    {
     "data": {
      "image/png": "[encoded data removed]",
      "text/plain": [
       "<Figure size 720x720 with 1 Axes>"
      ]
     },
     "metadata": {
      "needs_background": "light"
     },
     "output_type": "display_data"
    }
   ],
   "source": [
    "zSlice = 100\n",
    "xRange = [i for i in range(15, 20)]\n",
    "yRange = [i for i in range(15, 20)]\n",
    "cellPos = pfs.Vec3DClass(pfs.Type.cellPos_t)(z=zSlice)\n",
    "cellIdRange = []\n",
    "for i in xRange:\n",
    "    cellPos.x = i\n",
    "    for j in yRange:\n",
    "        cellPos.y = j\n",
    "        cellId = ptrSimData[0].cellIdVec.ptr[pfs.getAbsoluteCellId(cellCount, cellPos)]\n",
    "        if cellId != pfs.Const.noCellId:\n",
    "            cellIdRange.append(cellId)\n",
    "print(f\"Selected {len(cellIdRange)} for presentation\")\n",
    "\n",
    "# Draw the cells\n",
    "fig, ax = plt.subplots(figsize=(10, 10))\n",
    "ax.set_title(\"Cells for representing moving particles\")\n",
    "ax.plot()\n",
    "for cellId in cellIdRange:\n",
    "    pos = ptrSimData[0].cellVec.ptr[cellId].pos\n",
    "    ax.add_patch(\n",
    "        patches.Rectangle(\n",
    "            (cellSize.x*pos.x, cellSize.y*pos.y),\n",
    "            cellSize.x, cellSize.y,\n",
    "            edgecolor = 'blue',\n",
    "            alpha = 0.5,\n",
    "            fill=False\n",
    "        ) \n",
    "    )\n",
    "# Draw the geometry bound\n",
    "ax.add_patch(\n",
    "patches.Circle(\n",
    "    (geoSize.x*0.5, geoSize.y*0.5),\n",
    "    radius=geoSize.x*0.5,\n",
    "    lw = 2,\n",
    "    edgecolor = 'red',\n",
    "    alpha = 0.5,\n",
    "    fill=False\n",
    "    ) \n",
    ")\n",
    "ax.set_xlim((xRange[0] - 1)*cellSize.x, (xRange[-1] + 1)*cellSize.x)\n",
    "ax.set_ylim((yRange[0] - 1)*cellSize.y, (yRange[-1] + 1)*cellSize.y)\n",
    "ax.set_aspect('equal')\n",
    "plt.show()"
   ]
  },
  {
   "cell_type": "markdown",
   "metadata": {},
   "source": [
    "#### Evolve states and move particles"
   ]
  },
  {
   "cell_type": "code",
   "execution_count": null,
   "metadata": {},
   "outputs": [],
   "source": [
    "# Number of frames to run the simulation\n",
    "num_frames = 1000\n",
    "# Size of a particle in the animation\n",
    "particle_size = 0.005\n",
    "\n",
    "pid_dict = dict()\n",
    "\n",
    "pc = ['blue', 'red']\n",
    "\n",
    "def update(i):\n",
    "    Parfis.runCommandChain(id, \"evolve\")\n",
    "    if i % 10 == 0:\n",
    "        print(f\"{i}/{num_frames} len(patches)={len(ax.patches)}\", end=\"\\r\")\n",
    "\n",
    "    for pid in pid_dict.keys():\n",
    "        pid_dict[pid][1] = 0\n",
    "\n",
    "    for cid in cellIdRange:\n",
    "        z_off = 0\n",
    "        x_off = 0\n",
    "        headState = ptrSimData[0].stateVec\n",
    "        for pid, p in parfis.particle_range(cid_li[ci], si):\n",
    "            if pid not in pid_dict.keys():\n",
    "                ax.add_patch(\n",
    "                    patches.Circle(\n",
    "                        (p.r.z + z_off, p.r.x + x_off),\n",
    "                        radius=particle_size,\n",
    "                        color=\"green\",\n",
    "                        fill=True\n",
    "                    )\n",
    "                )\n",
    "                pid_dict[pid] = [ax.patches[-1], 1]\n",
    "            else:\n",
    "                pid_dict[pid][1] = 1\n",
    "                pid_dict[pid][0].center = p.r.z + z_off, p.r.x + x_off\n",
    "\n",
    "    for pid in list(pid_dict):\n",
    "        if pid_dict[pid][1] == 0:\n",
    "            ax.patches.remove(pid_dict[pid][0])\n",
    "            del pid_dict[pid]\n",
    "\n",
    "    return ax.patches + ax.texts\n",
    "\n",
    "anim = animation.FuncAnimation(fig, update, frames=num_frames, blit=True)"
   ]
  }
 ],
 "metadata": {
  "interpreter": {
   "hash": "31f2aee4e71d21fbe5cf8b01ff0e069b9275f58929596ceb00d14d90e3e16cd6"
  },
  "kernelspec": {
   "display_name": "Python 3.8.10 64-bit",
   "language": "python",
   "name": "python3"
  },
  "language_info": {
   "codemirror_mode": {
    "name": "ipython",
    "version": 3
   },
   "file_extension": ".py",
   "mimetype": "text/x-python",
   "name": "python",
   "nbconvert_exporter": "python",
   "pygments_lexer": "ipython3",
   "version": "3.8.10"
  },
  "orig_nbformat": 4
 },
 "nbformat": 4,
 "nbformat_minor": 2
}
