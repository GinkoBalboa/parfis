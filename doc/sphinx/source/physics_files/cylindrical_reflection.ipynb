{
 "cells": [
  {
   "cell_type": "markdown",
   "metadata": {},
   "source": [
    "# Reflection of particles from a cylindrical wall\n",
    "\n",
    "Let us consider that a particle from the starting position $r_0 = (x_0, y_0)$, in time $\\Delta t$, moving with velocity $v = (v_x, v_y)$, crosses the boundary of the circle of radius $R$. We can set, without loss of generality, the time step to be unity $\\Delta t = 1$. If it there is no boundary the particle will reach to point $r_e$.\n",
    "\n",
    "First step in calculating the reflection is to find the point where the particle and the wall touch. If we define this point as $r_T$ ($|r_T| = R$), and the time of impact $T$ we have the following equation:\n",
    "\n",
    "\\begin{equation*}\n",
    "(x_0 + v_x T)^2 + (y_0 + v_y T)^2 = R^2.\n",
    "\\end{equation*}"
   ]
  },
  {
   "cell_type": "code",
   "execution_count": 1,
   "metadata": {},
   "outputs": [
    {
     "data": {
      "image/png": "[encoded data removed]",
      "text/plain": [
       "<IPython.core.display.Image object>"
      ]
     },
     "execution_count": 1,
     "metadata": {},
     "output_type": "execute_result"
    }
   ],
   "source": [
    "from IPython.display import Image\n",
    "Image(filename='./cylindrical_reflection.png')"
   ]
  },
  {
   "cell_type": "markdown",
   "metadata": {},
   "source": [
    "If we solve the quadratic equation for T we get:\n",
    "\n",
    "$$\n",
    "\\begin{align*}\n",
    "& (v_x^2 + v_y^2)T^2 + 2(x_0v_x + y_0v_y)T + x_0^2 + y_0^2 - R^2 = 0, \\\\\n",
    "\\\\\n",
    "& T = \\frac{-b + \\sqrt{b^2 - 4ac} }{2a}.\n",
    "\\end{align*}\n",
    "$$\n",
    "\n",
    "The particle moves from $r_0$ to the point of impact $r_T$, and reflects reaching $r_r$ in $\\Delta t = 1$. If the boundary didn't existed, the particle would reach $r_e$.\n",
    "\n",
    "In order to get the final position under reflection we first rotate the coordinate system so that $r_T = (x_T, y_T)$ in the transformed system is $r'_T = (x'_T, y'_T) = (R, 0)$. The rotation is performed for angle $-\\theta$ and the rotation cosine and sine can be expressed as:\n",
    "\n",
    "$$\n",
    "\\begin{align*}\n",
    "cos(\\theta) &= \\frac{x_T}{R} = C, \\\\\n",
    "\\\\\n",
    "sin(\\theta) &= \\frac{y_T}{R} = S. \\\\\n",
    "\\end{align*}\n",
    "$$\n",
    "\n",
    "Where the rotation matrices for a negative and positive angle rotations are:\n",
    "\n",
    "$$\n",
    "\\begin{align*}\n",
    "\\begin{bmatrix} x' \\\\ y' \\end{bmatrix} &= \n",
    "\\begin{bmatrix} C & S \\\\ -S & C \\end{bmatrix}\\cdot\\begin{bmatrix} x \\\\ y \\end{bmatrix}\n",
    "\\\\ \\\\\n",
    "\\begin{bmatrix} x \\\\ y \\end{bmatrix} &= \n",
    "\\begin{bmatrix} C & -S \\\\ S & C \\end{bmatrix}\\cdot\\begin{bmatrix} x' \\\\ y' \\end{bmatrix}\n",
    "\\end{align*}\n",
    "$$"
   ]
  },
  {
   "cell_type": "markdown",
   "metadata": {},
   "source": [
    "#### Calculation of position after reflection\n",
    "\n",
    "Calculation of $r_r$ is performed on the basis of the position of the final point $r_e$ in the rotated coordinate system $r'_e$. Position of $r_e = r_0 + v$, and the position in the rotated coordinate system is:\n",
    "\n",
    "$$\n",
    "\\begin{align*}\n",
    "\\begin{bmatrix} x'_e \\\\ y'_e \\end{bmatrix} = \n",
    "\\begin{bmatrix} C (x_0 + v_x) + S (y_0 + v_y) \\\\ -S (x_0 + v_x) + C (y_0 + v_y) \\end{bmatrix}\n",
    "\\end{align*}\n",
    "$$\n",
    "\n",
    "The end position after the reflection in the rotated system is:\n",
    "\n",
    "$$\n",
    "\\begin{align*}\n",
    "\\begin{bmatrix} x'_r \\\\ y'_r \\end{bmatrix} = \\begin{bmatrix} x'_e - R \\\\ y'_e \\end{bmatrix}\n",
    "\\end{align*}\n",
    "$$\n",
    "\n",
    "In the original coordinate system we have:\n",
    "\n",
    "$$\n",
    "\\begin{align*}\n",
    "\\begin{bmatrix} x_r \\\\ y_r \\end{bmatrix} = \n",
    "\\begin{bmatrix} C x'_r - S y'_r \\\\ S x'_r + C y'_r \\end{bmatrix}\n",
    "\\end{align*}\n",
    "$$\n"
   ]
  },
  {
   "cell_type": "markdown",
   "metadata": {},
   "source": [
    "#### Calculation of velocity after reflection\n",
    "\n",
    "When we are in the rotated coordinate system the velocity vector after the reflection is easily calculated since it is a simple inversion of the $v'_x$ component.\n",
    "\n",
    "$$\n",
    "\\begin{align*}\n",
    "\\begin{bmatrix} v'_x \\\\ v'_y \\end{bmatrix}_{\\text{after reflection}} = \n",
    "\\begin{bmatrix} - v'_x \\\\ v'_y \\end{bmatrix}_{\\text{before reflection}}\n",
    "\\end{align*}\n",
    "$$\n",
    "\n",
    "Which gives the following velocity vector in the original coordinate system:\n",
    "\n",
    "$$\n",
    "\\begin{align*}\n",
    "\\begin{bmatrix} v_x \\\\ v_y \\end{bmatrix}_{\\text{after reflection}} = \n",
    "\\begin{bmatrix} - C v'_x - S v'_y \\\\ - S v'_x + C v'_y \\end{bmatrix}_{\\text{before reflection}}\n",
    "\\end{align*}\n",
    "$$"
   ]
  },
  {
   "cell_type": "markdown",
   "metadata": {},
   "source": [
    "#### Check for multiple reflection\n",
    "\n",
    "At this point we have new location $r_r$ which can be outside the cylindrical boundaries. In this case we repeat the same steps as above. The difference is that we have the initial position at $r_T$, with veloctiy vector after the reflection $v$ and reduced timestep to $\\Delta t_{new} = 1 - T$.  "
   ]
  }
 ],
 "metadata": {
  "interpreter": {
   "hash": "31f2aee4e71d21fbe5cf8b01ff0e069b9275f58929596ceb00d14d90e3e16cd6"
  },
  "kernelspec": {
   "display_name": "Python 3 (ipykernel)",
   "language": "python",
   "name": "python3"
  },
  "language_info": {
   "codemirror_mode": {
    "name": "ipython",
    "version": 3
   },
   "file_extension": ".py",
   "mimetype": "text/x-python",
   "name": "python",
   "nbconvert_exporter": "python",
   "pygments_lexer": "ipython3",
   "version": "3.8.10"
  }
 },
 "nbformat": 4,
 "nbformat_minor": 4
}
