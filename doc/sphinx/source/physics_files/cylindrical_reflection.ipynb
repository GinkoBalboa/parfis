{
 "cells": [
  {
   "cell_type": "markdown",
   "metadata": {},
   "source": [
    "# Reflection of particles from a cylindrical wall\n",
    "\n",
    "Let us consider that a particle from the starting position $r_0 = (x_0, y_0)$, in time $\\Delta t$, moving with velocity $v = (v_x, v_y)$, crosses the boundary of the circle of radius $R$ in one time step $\\Delta t$. If there is no boundary the particle will reach to point $r_e$.\n",
    "\n",
    "First step in calculating the reflection is to find the point where the particle and the wall touch. If we define this point as $r_T$ ($|r_T| = R$), and the time of impact $T = \\Delta t \\cdot \\tau$ we have the following equation:\n",
    "\n",
    "\\begin{equation*}\n",
    "(x_0 + v_x T)^2 + (y_0 + v_y T)^2 = R^2.\n",
    "\\end{equation*}"
   ]
  },
  {
   "cell_type": "code",
   "execution_count": null,
   "metadata": {},
   "outputs": [],
   "source": [
    "from IPython.display import Image\n",
    "Image(filename='./cylindrical_reflection.png')"
   ]
  },
  {
   "cell_type": "markdown",
   "metadata": {},
   "source": [
    "If we solve the quadratic equation for T we get:\n",
    "\n",
    "$$\n",
    "\\begin{align*}\n",
    "& (v_x^2 + v_y^2)T^2 + 2(x_0v_x + y_0v_y)T + x_0^2 + y_0^2 - R^2 = 0, \\\\\n",
    "\\\\\n",
    "& T = \\frac{-b + \\sqrt{b^2 - 4ac} }{2a} \\, \\Rightarrow \\, \\tau = T/\\Delta t.\n",
    "\\end{align*}\n",
    "$$\n",
    "\n",
    "The particle moves from $r_0$ to the point of impact $r_T$, and reflects reaching $r_r$ in time $\\Delta t$. Since the particle reaches the boundary in time less than $\\Delta t$ we have $0 < \\tau < 1$. If the boundary didn't existed, the particle would reach $r_e$.\n",
    "\n",
    "In order to get the final position under reflection we first rotate the coordinate system so that $r_T = (x_T, y_T)$ in the transformed system is $r'_T = (x'_T, y'_T) = (R, 0)$. The rotation is performed for angle $-\\theta$ and the rotation cosine and sine can be expressed as:\n",
    "\n",
    "$$\n",
    "\\begin{align*}\n",
    "cos(\\theta) &= \\frac{x_T}{R} = C, \\\\\n",
    "\\\\\n",
    "sin(\\theta) &= \\frac{y_T}{R} = S. \\\\\n",
    "\\end{align*}\n",
    "$$\n",
    "\n",
    "\n",
    "Where the rotation matrices for a negative and positive angle rotations are:\n",
    "\n",
    "$$\n",
    "\\begin{align*}\n",
    "\\begin{bmatrix} x' \\\\ y' \\end{bmatrix} &= \n",
    "\\begin{bmatrix} C & S \\\\ -S & C \\end{bmatrix}\\cdot\\begin{bmatrix} x \\\\ y \\end{bmatrix}\n",
    "\\\\ \\\\\n",
    "\\begin{bmatrix} x \\\\ y \\end{bmatrix} &= \n",
    "\\begin{bmatrix} C & -S \\\\ S & C \\end{bmatrix}\\cdot\\begin{bmatrix} x' \\\\ y' \\end{bmatrix}\n",
    "\\end{align*}\n",
    "$$"
   ]
  },
  {
   "cell_type": "markdown",
   "metadata": {},
   "source": [
    "#### Calculation of velocity and position after reflection\n",
    "\n",
    "Calculation of $r_r$ is performed by simple push from the point of reflection ($r_T$), with velocity $v_r$ (velocity after reflection), during time $\\Delta t (1 - \\tau)$.\n",
    "\n",
    "We calculate the velocity after reflection in the rotated coordinate system ($v'_r$), since it is easily calculated as a simple inversion of the $v'_x$ component.\n",
    "\n",
    "$$\n",
    "\\begin{align*}\n",
    "v'_r = \n",
    "\\begin{bmatrix} v'_x \\\\ v'_y \\end{bmatrix}_{\\text{after reflection}} = \n",
    "\\begin{bmatrix} - v'_x \\\\ v'_y \\end{bmatrix}_{\\text{before reflection}}\n",
    "\\end{align*}\n",
    "$$\n",
    "\n",
    "Which gives the following velocity vector in the original coordinate system:\n",
    "\n",
    "$$\n",
    "\\begin{align*}\n",
    "v_r = \n",
    "\\begin{bmatrix} v_x \\\\ v_y \\end{bmatrix}_{\\text{after reflection}} = \n",
    "\\begin{bmatrix} - C v'_x - S v'_y \\\\ - S v'_x + C v'_y \\end{bmatrix}_{\\text{before reflection}}\n",
    "\\end{align*}\n",
    "$$\n",
    "\n",
    "Now we can directly calculate $r_r$ in the original coordinate system.\n",
    "\n",
    "$$\n",
    "\\begin{align*}\n",
    "r_r = \\left(v \\cdot \\tau + v_r \\cdot (1 - \\tau)\\right)\\Delta t\n",
    "\\end{align*}\n",
    "$$"
   ]
  },
  {
   "cell_type": "markdown",
   "metadata": {},
   "source": [
    "#### Check for multiple reflection\n",
    "\n",
    "At this point we have new location $r_r$ which can be outside the cylindrical boundaries. In this case we repeat the same steps as above. The difference is that we have the initial position at $r_T$, with veloctiy vector $v_r$, and timestep set to $\\Delta t_{new} = (1 - \\tau)\\Delta t$. The algorithm is repeated as many times as needed - until the $r_r$ stays inside the geometry."
   ]
  }
 ],
 "metadata": {
  "interpreter": {
   "hash": "31f2aee4e71d21fbe5cf8b01ff0e069b9275f58929596ceb00d14d90e3e16cd6"
  },
  "kernelspec": {
   "display_name": "Python 3 (ipykernel)",
   "language": "python",
   "name": "python3"
  },
  "language_info": {
   "codemirror_mode": {
    "name": "ipython",
    "version": 3
   },
   "file_extension": ".py",
   "mimetype": "text/x-python",
   "name": "python",
   "nbconvert_exporter": "python",
   "pygments_lexer": "ipython3",
   "version": "3.8.10"
  }
 },
 "nbformat": 4,
 "nbformat_minor": 4
}
