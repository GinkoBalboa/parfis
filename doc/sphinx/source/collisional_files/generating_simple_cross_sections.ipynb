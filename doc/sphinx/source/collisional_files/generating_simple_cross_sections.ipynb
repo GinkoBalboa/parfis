{
 "cells": [
  {
   "cell_type": "markdown",
   "metadata": {},
   "source": [
    "# Generating simple cross sections\n",
    "\n",
    "Here we show how you can generate collisional cross sections using the tools from `parfis` module. Since the collisional therms span for a wide range of energy (velocity), we must use nonlinear function tabulation.\n",
    "\n",
    "$$\\newcommand{\\Ang}{\\unicode{xC5}}$$\n",
    "\n",
    "## Constant and step collision cross section\n",
    "\n",
    "Particle's velocity is bounded in value, as it must not traverse more than a cell-length in a single timestep. The larger the cell component (x, y or z) is, the greater maximum velocity it can support. In order to satisfy the constrain for all components, we must choose the smallest component as the base for the calculation of the maximum allowed velocity magnitude. Let's take the following simulation settings:\n",
    "\n",
    "$$\n",
    "\\begin{align*} \n",
    "  C = C_x &= C_y = C_z = 0.002 \\mathrm{m}, \\\\\n",
    "  \\Delta t &= 10^{-11} \\mathrm{s}, \\\\\n",
    "   m_e &= 9.1093837 \\cdot 10^{-31} \\mathrm{kg},\n",
    "\\end{align*}\n",
    "$$\n",
    "\n",
    "for the cell size, timestep and particle mass (electron). We can calculate the maximum velocity component as $v_m = C/\\Delta t$ from which we get the maximum kinetic energy that can be simulated per electron as:\n",
    "\n",
    "$$\n",
    "\\epsilon_{m} = \\frac{m_e v^2}{2} = \\frac{m_e C^2}{2 \\Delta t ^2} = 1.822\\cdot10^{-14} \\mathrm{J} \\quad (\\equiv 113.713 \\mathrm{keV}).\n",
    "$$\n",
    "\n",
    "From this we see that the x vector can be in the range from 0 to 114keV.\n",
    "\n",
    "### Constant cross section \n",
    "\n",
    "We will generate elastic cross section with a constant value of:\n",
    "\n",
    "$$\\sigma_e = 6 \\Ang^2 \\quad (\\equiv 6.0 \\cdot 10^{-20} \\mathrm{m^2}).$$\n",
    "\n",
    "### Step cross section\n",
    "\n",
    "For the step cross section we have a point at which the value has a discontinity. This cross section will have a threshold, and the collision process is inelastic. The function of the step cross section is:\n",
    "\n",
    "$$ \\sigma_i = \n",
    "\\begin{cases}\n",
    "  0 \\quad &x < 0.2 \\mathrm{eV} \\\\\n",
    "  3  \\mathrm{\\Ang^2} \\quad &x \\geq 0.2 \\mathrm{eV}.\n",
    "\\end{cases}\n",
    "$$"
   ]
  },
  {
   "cell_type": "code",
   "execution_count": null,
   "metadata": {},
   "outputs": [],
   "source": [
    "import parfis as pfs\n",
    "import matplotlib.pyplot as plt\n",
    "import numpy as np\n",
    "SMALL_SIZE = 12\n",
    "MEDIUM_SIZE = 14\n",
    "BIGGER_SIZE = 16\n",
    "plt.rc('font', size=SMALL_SIZE)          # controls default text sizes\n",
    "plt.rc('axes', titlesize=SMALL_SIZE)     # fontsize of the axes title\n",
    "plt.rc('axes', labelsize=MEDIUM_SIZE)    # fontsize of the x and y labels\n",
    "plt.rc('xtick', labelsize=SMALL_SIZE)    # fontsize of the tick labels\n",
    "plt.rc('ytick', labelsize=SMALL_SIZE)    # fontsize of the tick labels\n",
    "plt.rc('legend', fontsize=SMALL_SIZE)    # legend fontsize\n",
    "plt.rc('figure', titlesize=BIGGER_SIZE)  # fontsize of the figure title\n",
    "\n",
    "\n",
    "\n",
    "nbin = 10000 # number of bins\n",
    "xmax = 114_000\n",
    "dx = np.log10(xmax)/nbin # dx for the linear axis\n",
    "xvec = [np.power(i*dx, 10) for i in range(nbin)]\n",
    "\n",
    "def sigma_e(x):\n",
    "    return 6\n",
    "\n",
    "def sigma_i(x):\n",
    "    if x<0.2:\n",
    "        return 0\n",
    "    else:\n",
    "        return 3\n",
    "\n",
    "xl = np.asarray(xvec)\n",
    "yle = np.ndarray(len(xvec), dtype=float)\n",
    "yli = np.ndarray(len(xvec), dtype=float)\n",
    "for i in range(len(xvec)):\n",
    "    yle[i] = sigma_e(xvec[i])\n",
    "    yli[i] = sigma_i(xvec[i])\n",
    "ylt = yle + yli"
   ]
  },
  {
   "cell_type": "markdown",
   "metadata": {},
   "source": [
    "Let's plot the cross section with linear tabulation, with log x-axis scale."
   ]
  },
  {
   "cell_type": "code",
   "execution_count": null,
   "metadata": {},
   "outputs": [],
   "source": [
    "fig, ax = plt.subplots(1, 1, figsize=(12, 7))  \n",
    "\n",
    "ax.plot(xl, yle, label=\"Elastic cross-section\")\n",
    "ax.plot(xl, yli, label=\"Inelastic cross-section\")\n",
    "ax.plot(xl, ylt, label=\"Total cross-section\")\n",
    "ax.set_xscale(\"log\")\n",
    "ax.set_xlim(0.001, 200_000)\n",
    "ax.set_xlabel(\"Energy [eV]\")\n",
    "ax.set_ylabel(\"Collision cross section area [$10^{-20}$ $\\mathrm{m}^2$]\")\n",
    "ax.legend()\n",
    "\n",
    "plt.show()"
   ]
  },
  {
   "cell_type": "markdown",
   "metadata": {},
   "source": [
    "### Collision frequency\n",
    "\n",
    "The probability for a collision in a time $\\Delta t$ is given as:\n",
    "\n",
    "$$\n",
    "p(t, t + \\Delta t) = 1 - \\exp( -N \\sigma_t  v \\Delta t ) = 1 - \\exp(-\\nu_t \\Delta_t),\n",
    "$$\n",
    "\n",
    "where $N$ is the number of gas particles, $v$ is the velocity magnitude of the projectile particle and $\\nu_t$ is the collisional frequency. We can express the above collisional frequencies by using the formula $v = \\sqrt{2 \\epsilon / m_e}$.\n",
    "\n",
    "$$\n",
    "\\nu(\\epsilon) = N \\sigma(\\epsilon) v = N \\sigma(\\epsilon) \\sqrt{2 \\epsilon/m_e}.\n",
    "$$\n",
    "\n",
    "We calculate collisional frequency for Avogadro number of particles $N_A$."
   ]
  },
  {
   "cell_type": "code",
   "execution_count": null,
   "metadata": {},
   "outputs": [],
   "source": [
    "eVJ = 1.602176634e-19\n",
    "me = 9.1093837e-11  # since we have y in units of A^2 (scale 1e-20m) and me in kg (scale 1e-31)\n",
    "Na = 6.02214076e23\n",
    "\n",
    "fle = Na*yle*1e-20*np.sqrt(2*xl*eVJ/me)\n",
    "fli = Na*yli*1e-20*np.sqrt(2*xl*eVJ/me)\n",
    "\n",
    "fig, ax = plt.subplots(2, 1, figsize=(12, 12))\n",
    "\n",
    "ax[0].plot(xl, fle, label=\"Elastic collision freq.\")\n",
    "ax[0].plot(xl, fli, label=\"Inelastic collision freq.\")\n",
    "ax[0].set_xlim(0, 1)\n",
    "ax[0].set_ylim(0, 3.0)\n",
    "ax[0].set_xlabel(\"Energy [eV]\")\n",
    "ax[0].set_ylabel(\"Collision freq. [$\\mathrm{s}^{-1}$]\")\n",
    "ax[0].legend()\n",
    "ax[1].plot(xl, fle, label=\"Elastic collision freq.\")\n",
    "ax[1].plot(xl, fli, label=\"Inelastic collision freq.\")\n",
    "ax[1].set_xlabel(\"Energy [eV]\")\n",
    "ax[1].set_ylabel(\"Collision freq. [$\\mathrm{s}^{-1}$]\")\n",
    "ax[1].legend()\n",
    "\n",
    "plt.show()"
   ]
  },
  {
   "cell_type": "markdown",
   "metadata": {},
   "source": [
    "## Non-linear function tabulation\n",
    "\n",
    "Since we are dealing with extremely nonlinear functions we must perform nonlinear tabulation. The mechanism for tabulating is to give ranges and bins for every range of the tabulation. Ranges are connected, for example the range from 0-1 and from 1-10 is written as a list [1, 10]. It can be said that we only write the range's end value, and the startin value is taken to be the previos number in the list. The first element is always zero. Let's see this tabulation for 6 ranges covering the energies from 0 to 114keV, and for 8000 overall datapoints. "
   ]
  },
  {
   "cell_type": "code",
   "execution_count": null,
   "metadata": {},
   "outputs": [],
   "source": [
    "ranges = [   1,   10,  100, 1000, 10000, 114000]\n",
    "nbins =  [1000, 1000, 1000, 1000,  1000,   3000]\n",
    "\n",
    "x, ye = pfs.generateCrossSection(sigma_e, ranges, nbins)\n",
    "x, yi = pfs.generateCrossSection(sigma_i, ranges, nbins)\n",
    "\n",
    "fig, ax = plt.subplots(1, 1, figsize=(12, 7))\n",
    "\n",
    "ax.plot(x, ye, label=\"Elastic cross-section\")\n",
    "ax.plot(x, yi, label=\"Inelastic cross-section\")\n",
    "\n",
    "ax.set_xscale(\"log\")\n",
    "ax.set_xlim(0.001, 200_000)\n",
    "ax.set_xlabel(\"Energy [eV]\")\n",
    "ax.set_ylabel(\"Collision cross section area [$10^{-20}$ $\\mathrm{m}^2$]\")\n",
    "ax.legend()\n",
    "\n",
    "plt.show()"
   ]
  },
  {
   "cell_type": "markdown",
   "metadata": {},
   "source": [
    "## Cross-section and collision frequency\n",
    "\n",
    "The parfis library is written to accept this nonlinear tabulation for the cross-section data definitions. If we load the following two files, we can represent the collision frequencies as they are calculated in the c++ code. We load the predefined configuration file that loads generated files as given above."
   ]
  },
  {
   "cell_type": "code",
   "execution_count": null,
   "metadata": {},
   "outputs": [],
   "source": [
    "ranges = [   1,   10,  100, 1000, 10000, 114000]\n",
    "nbins =  [1000, 1000, 1000, 1000,  1000,   1000]\n",
    "pfs.generateCrossSection(sigma_e, ranges, nbins, file=\"./elastic.csv\")\n",
    "pfs.generateCrossSection(sigma_i, ranges, nbins, file=\"./inelastic.csv\")\n",
    "\n",
    "pfs.Parfis.load_lib()\n",
    "id = pfs.Parfis.newParfis()\n",
    "pfs.Parfis.setConfigFromFile(id, \"./gasCollisionDefinition.ini\")\n",
    "pfs.Parfis.loadCfgData(id)\n",
    "pfs.Parfis.loadSimData(id)\n",
    "pfs.Parfis.setPyCfgData(id)\n",
    "pfs.Parfis.setPySimData(id)\n",
    "ptrCfgData = pfs.Parfis.getPyCfgData(id)\n",
    "ptrSimData = pfs.Parfis.getPySimData(id)"
   ]
  },
  {
   "cell_type": "markdown",
   "metadata": {},
   "source": [
    "We have the following data for the gas density in mol per square meter and in particles per square meter. We will need the particle mass (in the config file is given in AMU), as weel as the cell size in meters."
   ]
  },
  {
   "cell_type": "code",
   "execution_count": null,
   "metadata": {},
   "outputs": [],
   "source": [
    "Na = 6.02214076e23 # Avogadro number = number of particles in one mol\n",
    "JeV = 6.2415090744608e18 # Joules to electron volt\n",
    "dt = ptrSimData.specieVec.ptr[0].dt\n",
    "Nmol = ptrSimData.gasVec.ptr[0].molDensity\n",
    "N = Nmol*Na\n",
    "mamu = ptrSimData.specieVec.ptr[0].amuMass\n",
    "mkg = ptrSimData.specieVec.ptr[0].mass\n",
    "C = ptrCfgData.cellSize[0]\n",
    "maxVel = ptrSimData.specieVec.ptr[0].maxVel\n",
    "maxEcode = ptrSimData.specieVec.ptr[0].maxEv\n",
    "maxEcalc = 0.5*mkg*maxVel**2*JeV\n",
    "print(f\"Timestep [s] = {dt:.3e}\")\n",
    "print(f\"Gas density [mol/m^3] = {Nmol:.3e}\")\n",
    "print(f\"Gas density [particles/m^3] = {N:.3e}\")\n",
    "print(f\"Particle mass [AMU]: {mamu:.3e}\")\n",
    "print(f\"Particle mass [kg]: {mkg:.3e}\")\n",
    "print(f\"Cell size [m]: {C}\")\n",
    "print(f\"Maximum velocity [m/s]: {maxVel:.3e}\")\n",
    "print(f\"Maximum energy from code [eV]: {maxEcode:.3e}\")\n",
    "print(f\"Maximum energy from calculation [eV]: {maxEcalc:.3e}\")\n"
   ]
  },
  {
   "cell_type": "markdown",
   "metadata": {},
   "source": [
    "Now it is obvious why we use the value of 114keV for tabulating the cross-section, as it is given above. Let's see how these cross-sections are tabulated inside the parfis lib, and how is the collision frequency calculated. Instead of tabulating the collision frequency with energy dependence, we use the normalized velocity squared. The velocity squared is most easily calculated from the code values. The collision frequency is important since it carries information about gas density. Gas density is crucial when you have gas mixtures where the partial gas density plays an important role in calculating the collision probability for distinct gases."
   ]
  },
  {
   "cell_type": "code",
   "execution_count": null,
   "metadata": {},
   "outputs": [],
   "source": [
    "evList = ptrSimData.pyGasCollisionVec.ptr[0].xSecFtab.xVec.asList()\n",
    "sigmaList_e = ptrSimData.pyGasCollisionVec.ptr[0].xSecFtab.yVec.asList()\n",
    "sigmaList_i = ptrSimData.pyGasCollisionVec.ptr[1].xSecFtab.yVec.asList()"
   ]
  },
  {
   "cell_type": "code",
   "execution_count": null,
   "metadata": {},
   "outputs": [],
   "source": [
    "fig, ax = plt.subplots(1, 1, figsize=(12, 7))\n",
    "\n",
    "ax.plot(evList, sigmaList_e, label=\"Elastic cross-section\")\n",
    "ax.plot(evList, sigmaList_i, label=\"Inelastic cross-section\")\n",
    "\n",
    "ax.set_xscale(\"log\")\n",
    "ax.set_xlim(0.001, 200_000)\n",
    "ax.set_xlabel(\"Energy [eV]\")\n",
    "ax.set_ylabel(\"Collision cross section area [$10^{-20}$ $\\mathrm{m}^2$]\")\n",
    "ax.legend()\n",
    "\n",
    "plt.show()"
   ]
  },
  {
   "cell_type": "markdown",
   "metadata": {},
   "source": [
    "The singular collision cross-sections are useful only for computing the type of collision. The property that is important to us is the total cross-section, i.e. the sum of all cross-sections for a specie. Based on the total cross-section we can calculate the probability of a collision in a single time-step."
   ]
  },
  {
   "cell_type": "code",
   "execution_count": null,
   "metadata": {},
   "outputs": [],
   "source": [
    "vsqList = ptrSimData.pyGasCollisionVec.ptr[0].freqFtab.xVec.asList()\n",
    "freqList_e = ptrSimData.pyGasCollisionVec.ptr[0].freqFtab.yVec.asList()\n",
    "freqList_i = ptrSimData.pyGasCollisionVec.ptr[1].freqFtab.yVec.asList()"
   ]
  },
  {
   "cell_type": "code",
   "execution_count": null,
   "metadata": {},
   "outputs": [],
   "source": [
    "# Get coll. freq. from calculation\n",
    "vList = np.sqrt(vsqList)*maxVel\n",
    "yle_calc = np.ndarray(len(vList), dtype=float)\n",
    "yli_calc = np.ndarray(len(vList), dtype=float)\n",
    "\n",
    "JeV = 6.2415090744608e18\n",
    "for i in range(len(vList)):\n",
    "    # sigma(E) = sigma(mv^2/2 * JouleToeV_conversion_factor)\n",
    "    yle_calc[i] = sigma_e(0.5*mkg*vList[i]**2*JeV)\n",
    "    yli_calc[i] = sigma_i(0.5*mkg*vList[i]**2*JeV)\n",
    "\n",
    "fle_v = N*yle_calc*1.0e-20*vList*dt\n",
    "fli_v = N*yli_calc*1.0e-20*vList*dt\n",
    "\n",
    "fig, ax = plt.subplots(1, 1, figsize=(12, 10))\n",
    "\n",
    "ax.plot(vsqList, freqList_e, label=\"Elastic collision frequency (parfis)\", marker='*', markevery=20, linestyle=None)\n",
    "ax.plot(vsqList, fle_v, label=\"Elastic collision frequency (calculation)\")\n",
    "ax.plot(vsqList, freqList_i, label=\"Inelastic collision frequency (parfis)\", marker='*', markevery=20, linestyle=None)\n",
    "ax.plot(vsqList, fli_v, label=\"Elastic collision frequency (calculation)\")\n",
    "\n",
    "ax.set_xlim(1e-11, 3.0e-5)\n",
    "ax.set_ylim(4e-9, 0.8e-1)\n",
    "ax.set_xlabel(\"Normalized velocity squared [${2 \\cdot 10^{16}} \\mathrm{m^2/s^2}$]\")\n",
    "ax.set_ylabel(\"Collision frequency [$\\mathrm{10^{11}s^{-1}}$]\")\n",
    "ax.legend()\n",
    "\n",
    "plt.show()"
   ]
  },
  {
   "cell_type": "markdown",
   "metadata": {},
   "source": [
    "We can notice the non-linear tabulation in action. The collision frequency is given per timestep and we can see that is well below one, which is good - it means we have chosen a good time-step for the given particle mass."
   ]
  },
  {
   "cell_type": "markdown",
   "metadata": {},
   "source": [
    "## Probability for collision (total)\n",
    "\n",
    "When we calculate the probability of a collision we use the total collision frequency. The total \n",
    "collision frequency is the sum of the collisional frequencies for each process. We use the total\n",
    "collision frequency and not the total cross-section since the cross-sections can be defined for\n",
    "different gas constituents in the case of gas mixtures. Since the collision frequency takes into \n",
    "account the gas density, we use the total collision frequency."
   ]
  },
  {
   "cell_type": "code",
   "execution_count": null,
   "metadata": {},
   "outputs": [],
   "source": [
    "# Calculated\n",
    "prob_col = 1.0 - np.exp(-(fle_v + fli_v))\n",
    "# From code\n",
    "prob_col_code_raw = ptrSimData.pyGasCollisionProbVec.ptr[0].yVec.asList()\n",
    "colCnt = ptrSimData.pyGasCollisionProbVec.ptr[0].colCnt\n",
    "rowCnt = ptrSimData.pyGasCollisionProbVec.ptr[0].rowCnt\n",
    "prob_col_code = [[0]*rowCnt for i in range(colCnt)]\n",
    "for i in range(colCnt):\n",
    "    for j in range(rowCnt):\n",
    "        prob_col_code[i][j] = prob_col_code_raw[j*colCnt + i]\n"
   ]
  },
  {
   "cell_type": "code",
   "execution_count": null,
   "metadata": {},
   "outputs": [],
   "source": [
    "fig, ax = plt.subplots(1, 1, figsize=(12, 10))\n",
    "\n",
    "# The last vector is the total collision probability\n",
    "ax.plot(vsqList, prob_col_code[-1], label=\"Collision probability (parfis)\" , marker='*', markevery=20, linestyle=None)\n",
    "ax.plot(vsqList, prob_col, label=\"Collision probability (calculated)\")\n",
    "\n",
    "ax.set_xlim(1e-11, 5.0e-5)\n",
    "ax.set_ylim(4e-9, 0.15)\n",
    "ax.set_xlabel(\"Normalized velocity squared [${2 \\cdot 10^{16}} \\mathrm{m^2/s^2}$]\")\n",
    "ax.set_ylabel(\"Collision probability in a timestep [$\\mathrm{10^{11}s^{-1}}$]\")\n",
    "ax.legend()\n",
    "\n",
    "plt.show()"
   ]
  },
  {
   "cell_type": "markdown",
   "metadata": {},
   "source": [
    "Since we have two collisions when we choose a number that explains that collision happened, we select the type of collision based on the relative value between different types of collisions. The relative collisions are scaled to the total collision at a given point, in this manner we only need one random variable to check if a collision happened and which type of collision happened. In the following example we will see the collision probability for a particle of squared velocity of ($4\\cdot10^{-11} \\mathrm{m^2/s^2}$)"
   ]
  },
  {
   "cell_type": "code",
   "execution_count": null,
   "metadata": {},
   "outputs": [],
   "source": [
    "rel_prob_e = prob_col*fle_v/(fle_v + fli_v)\n",
    "np.nan_to_num(rel_prob_e, copy=False, nan=0.0, posinf=0.0, neginf=0.0)"
   ]
  },
  {
   "cell_type": "code",
   "execution_count": null,
   "metadata": {},
   "outputs": [],
   "source": [
    "fig, ax = plt.subplots(1, 1, figsize=(12, 10))\n",
    "\n",
    "# The last vector is the total collision probability\n",
    "ax.plot(vsqList, prob_col_code[1], label=\"Collision probability (parfis)\" , marker='*', markevery=20, linestyle=None)\n",
    "ax.plot(vsqList, prob_col, label=\"Collision probability (calculated)\")\n",
    "# The first vector is the relative collision probability\n",
    "ax.plot(vsqList, prob_col_code[0], label=\"Collision probability (parfis)\" , marker='*', markevery=20, linestyle=None)\n",
    "ax.plot(vsqList, rel_prob_e, label=\"Relative probability for elastic collision (calculated)\")\n",
    "ax.vlines(x=2e-5, ymin=4e-9, ymax=0.052, color='orange', ls='--', lw=2)\n",
    "plt.text(x=2.1e-5, y=0.03, s=\"Elastic if random in [0, 0.052)\", bbox=None)\n",
    "ax.vlines(x=2e-5, ymin=0.052, ymax=0.078, color='green', ls='--', lw=2)\n",
    "plt.text(x=2.1e-5, y=0.075, s=\"Inelastic if random in [0.052, 0.078)\", bbox=None)\n",
    "ax.vlines(x=2e-5, ymin=0.078, ymax=0.15, color='violet', ls='--', lw=2)\n",
    "plt.text(x=2.1e-5, y=0.11, s=\"No collision if random in [0.078, 1)\", bbox=None)\n",
    "\n",
    "\n",
    "ax.set_xlim(1e-11, 5.0e-5)\n",
    "ax.set_ylim(4e-9, 0.15)\n",
    "ax.set_xlabel(\"Normalized velocity squared [${2 \\cdot 10^{16}} \\mathrm{m^2/s^2}$]\")\n",
    "ax.set_ylabel(\"Collision probability in a timestep [$\\mathrm{10^{11}s^{-1}}$]\")\n",
    "ax.legend()\n",
    "\n",
    "plt.show()"
   ]
  }
 ],
 "metadata": {
  "kernelspec": {
   "display_name": "Python 3.8.10 64-bit",
   "language": "python",
   "name": "python3"
  },
  "language_info": {
   "codemirror_mode": {
    "name": "ipython",
    "version": 3
   },
   "file_extension": ".py",
   "mimetype": "text/x-python",
   "name": "python",
   "nbconvert_exporter": "python",
   "pygments_lexer": "ipython3",
   "version": "3.8.10"
  },
  "vscode": {
   "interpreter": {
    "hash": "31f2aee4e71d21fbe5cf8b01ff0e069b9275f58929596ceb00d14d90e3e16cd6"
   }
  }
 },
 "nbformat": 4,
 "nbformat_minor": 4
}
