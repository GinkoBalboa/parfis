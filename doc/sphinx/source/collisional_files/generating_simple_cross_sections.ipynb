{
 "cells": [
  {
   "cell_type": "markdown",
   "metadata": {},
   "source": [
    "# Generating simple cross sections\n",
    "\n",
    "Here we show how you can generate collisional cross sections using the tools from `parfis` module. Since the collisional therms span for a wide range of nonlinear functions, we will use logartihmic scales.\n",
    "\n",
    "$\\newcommand{\\Ang}{\\unicode{xC5}}$\n",
    "\n",
    "## Generating constant and step collision cross section\n",
    "\n",
    "In order to choose the range of energies for the cross section, we can use the simulation parameters. A particle is bounded for the value of the velocty vector as it must not traverse more than a cell-length in a single timestep. Let's have the following simulation settings:\n",
    "\n",
    "$$\n",
    "\\begin{align*} \n",
    "  C = C_x &= C_y = C_z = 0.02 \\mathrm{m}, \\\\\n",
    "  \\Delta t &= 10^{-10} \\mathrm{s}, \\\\\n",
    "   m_e &= 9.1093837 \\cdot 10^{-31} \\mathrm{kg},\n",
    "\\end{align*}\n",
    "$$\n",
    "\n",
    "for the cell size, timestep and particle mass (electron). We can calculate the maximum velocity component as $v_m = C/\\Delta t$ from which we get the maximum kinetic energy that can be simulated per electron as:\n",
    "\n",
    "$$\n",
    "E_{m} = \\frac{1}{2} m_e v^2 = \\frac{3}{2} m_e \\left( \\frac{C}{\\Delta t} \\right)^2 = 5.465630\\cdot10^{-14} \\mathrm{J} \\quad (\\equiv 341.1378 \\mathrm{keV}).\n",
    "$$\n",
    "\n",
    "From this we can say that the x vector should go from 0 to 342keV.\n",
    "\n",
    "### Constant cross section \n",
    "\n",
    "We will generate elastic cross section with a value of:\n",
    "\n",
    "$$\\sigma_e = 6 \\Ang^2 \\quad (\\equiv 6.0 \\cdot 10^{-20} \\mathrm{m^2}).$$\n",
    "\n",
    "### Step cross section\n",
    "\n",
    "For the step cross section we have a point at which the value has a discontinity. This cross section will have a threshold, and the collision process is inelastic. The function of the step cross section is:\n",
    "\n",
    "$$ \\sigma_i = \n",
    "\\begin{cases}\n",
    "  0 \\quad &x < 0.2 \\mathrm{eV} \\\\\n",
    "  3  \\mathrm{\\Ang^2} \\quad &x \\geq 0.2 \\mathrm{eV}.\n",
    "\\end{cases}\n",
    "$$\n",
    "\n",
    "\n"
   ]
  },
  {
   "cell_type": "code",
   "execution_count": null,
   "metadata": {},
   "outputs": [],
   "source": [
    "import parfis as pfs\n",
    "import matplotlib.pyplot as plt\n",
    "import numpy as np\n",
    "\n",
    "nbin = 10000 # number of bins\n",
    "xmax = 342_000\n",
    "dx = np.log10(xmax)/nbin # dx for the linear axis\n",
    "xvec = [np.power(i*dx, 10) for i in range(nbin)]\n",
    "\n",
    "def sigma_e(x):\n",
    "    return 6\n",
    "\n",
    "def sigma_i(x):\n",
    "    if x<0.2:\n",
    "        return 0\n",
    "    else:\n",
    "        return 3\n",
    "\n",
    "x = np.asarray(xvec)\n",
    "ye = np.ndarray(len(xvec), dtype=float)\n",
    "yi = np.ndarray(len(xvec), dtype=float)\n",
    "for i in range(len(xvec)):\n",
    "    ye[i] = sigma_e(xvec[i])\n",
    "    yi[i] = sigma_i(xvec[i])\n",
    "yt = ye + yi"
   ]
  },
  {
   "cell_type": "code",
   "execution_count": null,
   "metadata": {},
   "outputs": [],
   "source": [
    "fig, ax = plt.subplots(1, 1, figsize=(20, 10))\n",
    "\n",
    "ax.plot(x, ye, label=\"Elastic cross-section\")\n",
    "ax.plot(x, yi, label=\"Inelastic cross-section\")\n",
    "ax.plot(x, yt, label=\"Total cross-section\")\n",
    "ax.set_xscale(\"log\")\n",
    "ax.set_xlim(0.001, 300_000)\n",
    "ax.set_xlabel(\"Energy [eV]\")\n",
    "ax.set_ylabel(\"Collision cross section area [$10^{-20}$ $\\mathrm{m}^2$]\")\n",
    "ax.legend()\n",
    "\n",
    "plt.show()"
   ]
  },
  {
   "cell_type": "markdown",
   "metadata": {},
   "source": [
    "### Collision frequency\n",
    "\n",
    "The probability for a collision in a time $\\Delta t$ is given as:\n",
    "\n",
    "$$\n",
    "p(t, t + \\Delta t) = 1 - \\exp( -N \\sigma_t  v \\Delta t ) = 1 - \\exp(-\\nu_t \\Delta_t),\n",
    "$$\n",
    "\n",
    "where $N$ is the number of gas particles, $v$ is the velocity magnitude of the projectile particle and $\\nu_t$ is the collisional frequency. We can express the above collisional frequencies by using the formula $v = 2 \\sqrt{\\epsilon} / m_e$.\n",
    "\n",
    "$$\n",
    "\\nu(\\epsilon) = N \\sigma(\\epsilon) \\frac{2 \\sqrt{\\epsilon}}{m_e}.\n",
    "$$\n",
    "\n",
    "We calculate collisional frequency for Avogadro number of particles $N_A$:"
   ]
  },
  {
   "cell_type": "code",
   "execution_count": null,
   "metadata": {},
   "outputs": [],
   "source": [
    "eVJ = 1.602176634e-19\n",
    "me = 9.1093837e-11  # since we have y in units of A^2 (scale 1e-20m) and me in kg (scale 1e-31)\n",
    "Na = 6.02214076e23\n",
    "\n",
    "nue = Na*ye*2*np.sqrt(x*eVJ)/me\n",
    "nui = Na*yi*2*np.sqrt(x*eVJ)/me\n",
    "nut = Na*yt*2*np.sqrt(x*eVJ)/me\n",
    "\n",
    "\n",
    "fig, ax = plt.subplots(1, 1, figsize=(20, 10))\n",
    "\n",
    "ax.plot(x, nue, label=\"Elastic collision freq.\")\n",
    "ax.plot(x, nui, label=\"Inelastic collision freq.\")\n",
    "ax.plot(x, nut, label=\"Total collision freq.\")\n",
    "ax.set_xscale(\"log\")\n",
    "ax.set_yscale(\"log\")\n",
    "ax.set_xlim(0.001, 300_000)\n",
    "ax.set_ylim(1e23, 1e28)\n",
    "ax.set_xlabel(\"Energy [eV]\")\n",
    "ax.set_ylabel(\"Collision freq. [$\\mathrm{s}^{-1}$]\")\n",
    "ax.legend()\n",
    "\n",
    "plt.show()"
   ]
  },
  {
   "cell_type": "markdown",
   "metadata": {},
   "source": [
    "### Mapping of log tabulated functions\n",
    "\n",
    "Since we will use logarithmic scales for the x-axis, we can use lookup tables for faster finding the index of tabulated func. For example, if we want to find out the value of the total collisional frequency for a particle of energy $\\epsilon$:\n",
    "\n",
    "1. We find the index $i$ (from the lookup table) such that the energy $\\epsilon$ lies between the two tabulated values of energy $\\epsilon_i$ and $\\epsilon_{i+1}$.\n",
    "2. We calculate the value of $nu$ based on a linear interpolation between the tabulated values $\\nu_i$ and $\\nu_{i+1}$.\n",
    "\n",
    "To create a lut table we split every order of magnitude to a number of bins. Files generated this way can be used by collision algorithms in parfis."
   ]
  },
  {
   "cell_type": "code",
   "execution_count": null,
   "metadata": {},
   "outputs": [],
   "source": [
    "ranges = [   1,   10,  100, 1000, 10000, 342000]\n",
    "nbins =  [1000, 1000, 1000, 1000,  1000,   3000]\n",
    "\n",
    "x, ye = pfs.generateCrossSection(sigma_e, ranges, nbins)\n",
    "x, yi = pfs.generateCrossSection(sigma_i, ranges, nbins)\n",
    "\n",
    "fig, ax = plt.subplots(1, 1, figsize=(20, 10))\n",
    "\n",
    "ax.plot(x, ye, label=\"Elastic cross-section\")\n",
    "ax.plot(x, yi, label=\"Inelastic cross-section\")\n",
    "\n",
    "ax.set_xscale(\"log\")\n",
    "ax.set_xlim(0.001, 300_000)\n",
    "ax.set_xlabel(\"Energy [eV]\")\n",
    "ax.set_ylabel(\"Collision cross section area [$10^{-20}$ $\\mathrm{m}^2$]\")\n",
    "ax.legend()\n",
    "\n",
    "plt.show()"
   ]
  }
 ],
 "metadata": {
  "kernelspec": {
   "display_name": "Python 3.8.10 64-bit",
   "language": "python",
   "name": "python3"
  },
  "language_info": {
   "codemirror_mode": {
    "name": "ipython",
    "version": 3
   },
   "file_extension": ".py",
   "mimetype": "text/x-python",
   "name": "python",
   "nbconvert_exporter": "python",
   "pygments_lexer": "ipython3",
   "version": "3.8.10"
  },
  "orig_nbformat": 4,
  "vscode": {
   "interpreter": {
    "hash": "31f2aee4e71d21fbe5cf8b01ff0e069b9275f58929596ceb00d14d90e3e16cd6"
   }
  }
 },
 "nbformat": 4,
 "nbformat_minor": 2
}
