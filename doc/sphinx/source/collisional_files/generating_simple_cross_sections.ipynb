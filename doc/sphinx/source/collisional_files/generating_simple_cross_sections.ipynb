{
 "cells": [
  {
   "cell_type": "markdown",
   "metadata": {},
   "source": [
    "# Generating simple cross sections\n",
    "\n",
    "Here we show how you can generate collisional cross sections using the tools from `parfis` module. Since the collisional therms span for a wide range of energy (velocity), we must use nonlinear function tabulation.\n",
    "\n",
    "$$\\newcommand{\\Ang}{\\unicode{xC5}}$$\n",
    "\n",
    "## Constant and step collision cross section\n",
    "\n",
    "Particle's velocity is bounded in value, as it must not traverse more than a cell-length in a single timestep. The larger the cell component (x, y or z) is, the greater maximum velocity it can support. In order to satisfy the constrain for all components, we must choose the smallest component as the base for the calculation of the maximum allowed velocity magnitude. Let's take the following simulation settings:\n",
    "\n",
    "$$\n",
    "\\begin{align*} \n",
    "  C = C_x &= C_y = C_z = 0.002 \\mathrm{m}, \\\\\n",
    "  \\Delta t &= 10^{-11} \\mathrm{s}, \\\\\n",
    "   m_e &= 9.1093837 \\cdot 10^{-31} \\mathrm{kg},\n",
    "\\end{align*}\n",
    "$$\n",
    "\n",
    "for the cell size, timestep and particle mass (electron). We can calculate the maximum velocity component as $v_m = C/\\Delta t$ from which we get the maximum kinetic energy that can be simulated per electron as:\n",
    "\n",
    "$$\n",
    "\\epsilon_{m} = \\frac{m_e v^2}{2} = \\frac{m_e C^2}{2 \\Delta t ^2} = 1.822\\cdot10^{-14} \\mathrm{J} \\quad (\\equiv 113.713 \\mathrm{keV}).\n",
    "$$\n",
    "\n",
    "From this we see that the x vector can be in the range from 0 to 114keV.\n",
    "\n",
    "### Constant cross section \n",
    "\n",
    "We will generate elastic cross section with a constant value of:\n",
    "\n",
    "$$\\sigma_e = 6 \\Ang^2 \\quad (\\equiv 6.0 \\cdot 10^{-20} \\mathrm{m^2}).$$\n",
    "\n",
    "### Step cross section\n",
    "\n",
    "For the step cross section we have a point at which the value has a discontinity. This cross section will have a threshold, and the collision process is inelastic. The function of the step cross section is:\n",
    "\n",
    "$$ \\sigma_i = \n",
    "\\begin{cases}\n",
    "  0 \\quad &x < 0.2 \\mathrm{eV} \\\\\n",
    "  3  \\mathrm{\\Ang^2} \\quad &x \\geq 0.2 \\mathrm{eV}.\n",
    "\\end{cases}\n",
    "$$"
   ]
  },
  {
   "cell_type": "code",
   "execution_count": null,
   "metadata": {},
   "outputs": [],
   "source": [
    "import parfis as pfs\n",
    "import matplotlib.pyplot as plt\n",
    "import numpy as np\n",
    "\n",
    "nbin = 10000 # number of bins\n",
    "xmax = 114_000\n",
    "dx = np.log10(xmax)/nbin # dx for the linear axis\n",
    "xvec = [np.power(i*dx, 10) for i in range(nbin)]\n",
    "\n",
    "def sigma_e(x):\n",
    "    return 6\n",
    "\n",
    "def sigma_i(x):\n",
    "    if x<0.2:\n",
    "        return 0\n",
    "    else:\n",
    "        return 3\n",
    "\n",
    "xl = np.asarray(xvec)\n",
    "yle = np.ndarray(len(xvec), dtype=float)\n",
    "yli = np.ndarray(len(xvec), dtype=float)\n",
    "for i in range(len(xvec)):\n",
    "    yle[i] = sigma_e(xvec[i])\n",
    "    yli[i] = sigma_i(xvec[i])\n",
    "ylt = yle + yli"
   ]
  },
  {
   "cell_type": "markdown",
   "metadata": {},
   "source": [
    "Let's plot the cross section with linear tabulation, with log x-axis scale."
   ]
  },
  {
   "cell_type": "code",
   "execution_count": null,
   "metadata": {},
   "outputs": [],
   "source": [
    "fig, ax = plt.subplots(1, 1, figsize=(12, 7))  \n",
    "\n",
    "ax.plot(xl, yle, label=\"Elastic cross-section\")\n",
    "ax.plot(xl, yli, label=\"Inelastic cross-section\")\n",
    "ax.plot(xl, ylt, label=\"Total cross-section\")\n",
    "ax.set_xscale(\"log\")\n",
    "ax.set_xlim(0.001, 200_000)\n",
    "ax.set_xlabel(\"Energy [eV]\")\n",
    "ax.set_ylabel(\"Collision cross section area [$10^{-20}$ $\\mathrm{m}^2$]\")\n",
    "ax.legend()\n",
    "\n",
    "plt.show()"
   ]
  },
  {
   "cell_type": "markdown",
   "metadata": {},
   "source": [
    "### Collision frequency\n",
    "\n",
    "The probability for a collision in a time $\\Delta t$ is given as:\n",
    "\n",
    "$$\n",
    "p(t, t + \\Delta t) = 1 - \\exp( -N \\sigma_t  v \\Delta t ) = 1 - \\exp(-\\nu_t \\Delta_t),\n",
    "$$\n",
    "\n",
    "where $N$ is the number of gas particles, $v$ is the velocity magnitude of the projectile particle and $\\nu_t$ is the collisional frequency. We can express the above collisional frequencies by using the formula $v = \\sqrt{2 \\epsilon / m_e}$.\n",
    "\n",
    "$$\n",
    "\\nu(\\epsilon) = N \\sigma(\\epsilon) \\sqrt{2 \\epsilon/m_e}.\n",
    "$$\n",
    "\n",
    "We calculate collisional frequency for Avogadro number of particles $N_A$."
   ]
  },
  {
   "cell_type": "code",
   "execution_count": null,
   "metadata": {},
   "outputs": [],
   "source": [
    "eVJ = 1.602176634e-19\n",
    "me = 9.1093837e-11  # since we have y in units of A^2 (scale 1e-20m) and me in kg (scale 1e-31)\n",
    "Na = 6.02214076e23\n",
    "\n",
    "fle = Na*yle*np.sqrt(2*xl*eVJ/me)\n",
    "fli = Na*yli*np.sqrt(2*xl*eVJ/me)\n",
    "flt = Na*ylt*np.sqrt(2*xl*eVJ/me)\n",
    "\n",
    "\n",
    "fig, ax = plt.subplots(1, 1, figsize=(12, 7))\n",
    "\n",
    "ax.plot(xl, fle, label=\"Elastic collision freq.\")\n",
    "ax.plot(xl, fli, label=\"Inelastic collision freq.\")\n",
    "ax.plot(xl, flt, label=\"Total collision freq.\")\n",
    "ax.set_xscale(\"log\")\n",
    "ax.set_yscale(\"log\")\n",
    "ax.set_xlim(0.001, 300_000)\n",
    "ax.set_ylim(1e18, 1e24)\n",
    "ax.set_xlabel(\"Energy [eV]\")\n",
    "ax.set_ylabel(\"Collision freq. [$\\mathrm{s}^{-1}$]\")\n",
    "ax.legend()\n",
    "\n",
    "plt.show()"
   ]
  },
  {
   "cell_type": "markdown",
   "metadata": {},
   "source": [
    "## Non-linear function tabulation\n",
    "\n",
    "Since we are dealing with extremely nonlinear functions we must perform nonlinear tabulation. The mechanism for tabulating is to give ranges and bins for every range of the tabulation. Ranges are connected, for example the range from 0-1 and from 1-10 is written as a list [1, 10]. It can be said that we only write the range's end value, and the startin value is taken to be the previos number in the list. The first element is always zero. Let's see this tabulation for 6 ranges covering the energies from 0 to 114keV, and for 8000 overall datapoints. "
   ]
  },
  {
   "cell_type": "code",
   "execution_count": null,
   "metadata": {},
   "outputs": [],
   "source": [
    "ranges = [   1,   10,  100, 1000, 10000, 114000]\n",
    "nbins =  [1000, 1000, 1000, 1000,  1000,   3000]\n",
    "\n",
    "x, ye = pfs.generateCrossSection(sigma_e, ranges, nbins)\n",
    "x, yi = pfs.generateCrossSection(sigma_i, ranges, nbins)\n",
    "\n",
    "fig, ax = plt.subplots(1, 1, figsize=(12, 7))\n",
    "\n",
    "ax.plot(x, ye, label=\"Elastic cross-section\")\n",
    "ax.plot(x, yi, label=\"Inelastic cross-section\")\n",
    "\n",
    "ax.set_xscale(\"log\")\n",
    "ax.set_xlim(0.001, 200_000)\n",
    "ax.set_xlabel(\"Energy [eV]\")\n",
    "ax.set_ylabel(\"Collision cross section area [$10^{-20}$ $\\mathrm{m}^2$]\")\n",
    "ax.legend()\n",
    "\n",
    "plt.show()"
   ]
  },
  {
   "cell_type": "markdown",
   "metadata": {},
   "source": [
    "## Simulation demo\n",
    "\n",
    "The parfis library is written to accept this nonlinear tabulation for the cross section data definitions. If we load the following two files, we can represent the collision frequencies as they are calculated in the c++ code. We load the predefined configuration file that loads generated files as given above."
   ]
  },
  {
   "cell_type": "code",
   "execution_count": null,
   "metadata": {},
   "outputs": [],
   "source": [
    "ranges = [   1,   10,  100, 1000, 10000, 114000]\n",
    "nbins =  [1000, 1000, 1000, 1000,  1000,   1000]\n",
    "pfs.generateCrossSection(sigma_e, ranges, nbins, file=\"./elastic.csv\")\n",
    "pfs.generateCrossSection(sigma_i, ranges, nbins, file=\"./inelastic.csv\")\n",
    "\n",
    "pfs.Parfis.load_lib()\n",
    "id = pfs.Parfis.newParfis()\n",
    "pfs.Parfis.setConfigFromFile(id, \"./gasCollisionDefinition.ini\")\n",
    "pfs.Parfis.loadCfgData(id)\n",
    "pfs.Parfis.loadSimData(id)\n",
    "pfs.Parfis.setPyCfgData(id)\n",
    "pfs.Parfis.setPySimData(id)\n",
    "ptrCfgData = pfs.Parfis.getPyCfgData(id)\n",
    "ptrSimData = pfs.Parfis.getPySimData(id)"
   ]
  },
  {
   "cell_type": "markdown",
   "metadata": {},
   "source": [
    "We have the following data for the gas density in mol per square meter and in particles per square meter. We will need the particle mass (in the config file is given in AMU), as weel as the cell size in meters."
   ]
  },
  {
   "cell_type": "code",
   "execution_count": null,
   "metadata": {},
   "outputs": [],
   "source": [
    "Na = 6.02214076e23 # Avogadro number = number of particles in one mol\n",
    "JeV = 6.2415090744608e18 # Joules to electron volt\n",
    "Nmol = ptrSimData.gasVec.ptr[0].molDensity\n",
    "N = Nmol*Na\n",
    "mamu = ptrSimData.specieVec.ptr[0].amuMass\n",
    "mkg = ptrSimData.specieVec.ptr[0].mass\n",
    "C = ptrCfgData.cellSize[0]\n",
    "maxVel = ptrSimData.specieVec.ptr[0].maxVel\n",
    "maxEcode = ptrSimData.specieVec.ptr[0].maxEv\n",
    "maxEcalc = 0.5*mkg*maxVel**2*JeV\n",
    "print(f\"Gas density [mol/m^3] = {Nmol:.3e}\")\n",
    "print(f\"Gas density [particles/m^3] = {N:.3e}\")\n",
    "print(f\"Particle mass [AMU]: {mamu:.3e}\")\n",
    "print(f\"Particle mass [kg]: {mkg:.3e}\")\n",
    "print(f\"Cell size [m]: {C}\")\n",
    "print(f\"Maximum velocity [m/s]: {maxVel:.3e}\")\n",
    "print(f\"Maximum energy from code [eV]: {maxEcode:.3e}\")\n",
    "print(f\"Maximum energy from calculation [eV]: {maxEcalc:.3e}\")\n"
   ]
  },
  {
   "cell_type": "markdown",
   "metadata": {},
   "source": [
    "Now it is obvious why we use the value of 114keV for tabulating the cross section, as it is given above. Let's see how this cross sections are tabulated inside the parfis lib."
   ]
  },
  {
   "cell_type": "code",
   "execution_count": null,
   "metadata": {},
   "outputs": [],
   "source": [
    "evList = ptrSimData.pyGasCollisionVec.ptr[0].xSecFtab.xVec.asList()\n",
    "sigmaList_e = ptrSimData.pyGasCollisionVec.ptr[0].xSecFtab.yVec.asList()\n",
    "sigmaList_i = ptrSimData.pyGasCollisionVec.ptr[1].xSecFtab.yVec.asList()"
   ]
  },
  {
   "cell_type": "code",
   "execution_count": null,
   "metadata": {},
   "outputs": [],
   "source": [
    "fig, ax = plt.subplots(1, 1, figsize=(12, 7))\n",
    "\n",
    "ax.plot(evList, sigmaList_e, label=\"Elastic cross-section\")\n",
    "ax.plot(evList, sigmaList_i, label=\"Inelastic cross-section\")\n",
    "\n",
    "ax.set_xscale(\"log\")\n",
    "ax.set_xlim(0.001, 200_000)\n",
    "ax.set_xlabel(\"Energy [eV]\")\n",
    "ax.set_ylabel(\"Collision cross section area [$10^{-20}$ $\\mathrm{m}^2$]\")\n",
    "ax.legend()\n",
    "\n",
    "plt.show()"
   ]
  }
 ],
 "metadata": {
  "interpreter": {
   "hash": "c3d7cc4c063f80c7c04d97d56596b2d82231574513951413ddca575e7e35dfab"
  },
  "kernelspec": {
   "display_name": "Python 3 (ipykernel)",
   "language": "python",
   "name": "python3"
  },
  "language_info": {
   "codemirror_mode": {
    "name": "ipython",
    "version": 3
   },
   "file_extension": ".py",
   "mimetype": "text/x-python",
   "name": "python",
   "nbconvert_exporter": "python",
   "pygments_lexer": "ipython3",
   "version": "3.9.12"
  },
  "vscode": {
   "interpreter": {
    "hash": "31f2aee4e71d21fbe5cf8b01ff0e069b9275f58929596ceb00d14d90e3e16cd6"
   }
  }
 },
 "nbformat": 4,
 "nbformat_minor": 4
}
