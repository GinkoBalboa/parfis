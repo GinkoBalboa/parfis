{
 "cells": [
  {
   "cell_type": "markdown",
   "metadata": {},
   "source": [
    "# Cells in a cylindrical geometry\n",
    "\n",
    "This demo shows cell arangement in a cylindrical geometry. The representation deals with cells in \n",
    "the x-y  plane at a given z slice. "
   ]
  },
  {
   "cell_type": "markdown",
   "metadata": {},
   "source": [
    "Import modules and load parfis lib"
   ]
  },
  {
   "cell_type": "code",
   "execution_count": 1,
   "metadata": {},
   "outputs": [
    {
     "name": "stdout",
     "output_type": "stream",
     "text": [
      "Successfully loaded lib file: libparfis64.so\n"
     ]
    }
   ],
   "source": [
    "import parfis as pfs\n",
    "from parfis import Parfis\n",
    "import matplotlib.pyplot as plt\n",
    "\n",
    "Parfis.load_lib()"
   ]
  },
  {
   "cell_type": "markdown",
   "metadata": {},
   "source": [
    "Create simulation data"
   ]
  },
  {
   "cell_type": "code",
   "execution_count": 2,
   "metadata": {},
   "outputs": [
    {
     "data": {
      "text/plain": [
       "0"
      ]
     },
     "execution_count": 2,
     "metadata": {},
     "output_type": "execute_result"
    }
   ],
   "source": [
    "id = Parfis.newParfis()\n",
    "Parfis.loadCfgData(id)\n",
    "Parfis.loadSimData(id)\n",
    "Parfis.runCommandChain(id, \"create\")"
   ]
  },
  {
   "cell_type": "markdown",
   "metadata": {},
   "source": [
    "Get pointers to simulation data"
   ]
  },
  {
   "cell_type": "code",
   "execution_count": 3,
   "metadata": {},
   "outputs": [],
   "source": [
    "Parfis.setPyCfgData(id)\n",
    "ptrCfgData = Parfis.getPyCfgData(id)\n",
    "Parfis.setPySimData(id)\n",
    "ptrSimData = Parfis.getPySimData(id)"
   ]
  },
  {
   "cell_type": "markdown",
   "metadata": {},
   "source": [
    "Get geometry and cell measures"
   ]
  },
  {
   "cell_type": "code",
   "execution_count": 4,
   "metadata": {},
   "outputs": [
    {
     "name": "stdout",
     "output_type": "stream",
     "text": [
      "cellSize = {x: 0.001, y: 0.001, z: 0.001} meters\n",
      "geoSize = {x: 0.02, y: 0.02, z: 0.4} meters\n",
      "cellCount = {x: 20, y: 20, z: 400}\n"
     ]
    }
   ],
   "source": [
    "cellSize = ptrCfgData[0].cellSize[0]\n",
    "geoSize = ptrCfgData[0].geometrySize[0]\n",
    "cellCount = ptrCfgData[0].cellCount[0]\n",
    "print(f\"cellSize = {cellSize} meters\")\n",
    "print(f\"geoSize = {geoSize} meters\")\n",
    "print(f\"cellCount = {cellCount}\")"
   ]
  },
  {
   "cell_type": "markdown",
   "metadata": {},
   "source": [
    "Get all cell absolute id that lie in the x-y plane at z=10 and print the first few of them. Every\n",
    "absolute id by value is `Const.noCellId` or a certain id that corresponds to the position in\n",
    "the vector of existing cells. We gather two vectors, one with absolute cell ids and one with\n",
    "real cell ids.\n",
    "\n",
    "Absolute id values $A_{id}$ are mapped according to the following formula:\n",
    "\n",
    "$$\n",
    "A_{id} = C_z C_y x + C_z y + z\n",
    "$$"
   ]
  },
  {
   "cell_type": "code",
   "execution_count": 5,
   "metadata": {},
   "outputs": [
    {
     "name": "stdout",
     "output_type": "stream",
     "text": [
      "{x: 0, y: 0, z: 10} -> 10 -> 4294967295 -> None\n",
      "{x: 0, y: 1, z: 10} -> 410 -> 4294967295 -> None\n",
      "{x: 0, y: 2, z: 10} -> 810 -> 4294967295 -> None\n",
      "{x: 0, y: 3, z: 10} -> 1210 -> 4294967295 -> None\n",
      "{x: 0, y: 4, z: 10} -> 1610 -> 4294967295 -> None\n",
      "{x: 0, y: 5, z: 10} -> 2010 -> 10 -> {x: 0, y: 5, z: 10}\n",
      "{x: 0, y: 6, z: 10} -> 2410 -> 410 -> {x: 0, y: 6, z: 10}\n",
      "{x: 0, y: 7, z: 10} -> 2810 -> 810 -> {x: 0, y: 7, z: 10}\n",
      "{x: 0, y: 8, z: 10} -> 3210 -> 1210 -> {x: 0, y: 8, z: 10}\n",
      "{x: 0, y: 9, z: 10} -> 3610 -> 1610 -> {x: 0, y: 9, z: 10}\n"
     ]
    }
   ],
   "source": [
    "cellPos = pfs.Vec3DClass(pfs.Type.cellPos_t)(z=10)\n",
    "absCellId = []\n",
    "realCellId = []\n",
    "for i in range(cellCount.x):\n",
    "    cellPos.x = i\n",
    "    for j in range(cellCount.y):\n",
    "        cellPos.y = j\n",
    "        absCellId.append(pfs.getAbsoluteCellId(cellCount, cellPos))\n",
    "        realCellId.append(ptrSimData[0].cellIdVec.ptr[absCellId[-1]])\n",
    "        cellPosFromData = None\n",
    "        if realCellId[-1] != 0xffffffff:\n",
    "            cellPosFromData = ptrSimData[0].cellVec.ptr[realCellId[-1]].pos\n",
    "        if i==0 and j < 10:\n",
    "            print(f\"{cellPos} -> {absCellId[-1]} -> {realCellId[-1]} -> {cellPosFromData}\")"
   ]
  },
  {
   "cell_type": "code",
   "execution_count": 17,
   "metadata": {},
   "outputs": [
    {
     "name": "stdout",
     "output_type": "stream",
     "text": [
      "{x: 4, y: 1, z: 10}\n",
      "{x: 0, y: 5, z: 0}\n",
      "{x: 0, y: 5, z: 1}\n",
      "{x: 0, y: 5, z: 2}\n",
      "{x: 0, y: 6, z: 0}\n",
      "{x: 0, y: 5, z: 399}\n",
      "{x: 0, y: 6, z: 0}\n",
      "{x: 0, y: 7, z: 0}\n",
      "{x: 0, y: 7, z: 23}\n"
     ]
    },
    {
     "ename": "AttributeError",
     "evalue": "module 'parfis' has no attribute 'getCellFromCellId'",
     "output_type": "error",
     "traceback": [
      "\u001b[0;31m---------------------------------------------------------------------------\u001b[0m",
      "\u001b[0;31mAttributeError\u001b[0m                            Traceback (most recent call last)",
      "\u001b[0;32m/tmp/ipykernel_5939/35253561.py\u001b[0m in \u001b[0;36m<module>\u001b[0;34m\u001b[0m\n\u001b[1;32m      1\u001b[0m \u001b[0;32mfor\u001b[0m \u001b[0mcid\u001b[0m \u001b[0;32min\u001b[0m \u001b[0mcellId\u001b[0m\u001b[0;34m:\u001b[0m\u001b[0;34m\u001b[0m\u001b[0;34m\u001b[0m\u001b[0m\n\u001b[0;32m----> 2\u001b[0;31m     \u001b[0mpfs\u001b[0m\u001b[0;34m.\u001b[0m\u001b[0mgetCellFromCellId\u001b[0m\u001b[0;34m(\u001b[0m\u001b[0;34m)\u001b[0m\u001b[0;34m\u001b[0m\u001b[0;34m\u001b[0m\u001b[0m\n\u001b[0m",
      "\u001b[0;31mAttributeError\u001b[0m: module 'parfis' has no attribute 'getCellFromCellId'"
     ]
    }
   ],
   "source": [
    "for cid in cellId:\n",
    "    pfs.getCellFromCellId()"
   ]
  },
  {
   "cell_type": "code",
   "execution_count": 6,
   "metadata": {},
   "outputs": [
    {
     "data": {
      "image/png": "[encoded data removed]",
      "text/plain": [
       "<Figure size 432x288 with 1 Axes>"
      ]
     },
     "metadata": {
      "needs_background": "light"
     },
     "output_type": "display_data"
    }
   ],
   "source": [
    "fig, ax = plt.subplots()\n",
    "ax.plot()\n",
    "ax.set_xlim(0 - cellSize.x, geoSize.x + cellSize.x)\n",
    "ax.set_ylim(0 - cellSize.y, geoSize.y + cellSize.y)\n",
    "ax.set_aspect('equal')\n",
    "plt.show()"
   ]
  },
  {
   "cell_type": "code",
   "execution_count": 7,
   "metadata": {},
   "outputs": [],
   "source": [
    "\n",
    "# unit_size = parfis.get_xyz_double(\"space.unit_cell_size\")\n",
    "#     geo_size = parfis.get_xyz_double(\"space.geometry_size\")\n",
    "\n",
    "#     cell_cnt_x = int(geo_size.x/unit_size.x)\n",
    "#     cell_cnt_y = int(geo_size.y/unit_size.y)"
   ]
  },
  {
   "cell_type": "markdown",
   "metadata": {},
   "source": [
    "Circle shows the geometry boundary.\n",
    "Picture meaning:\n",
    "\n",
    "- Light blue cells exist in the system\n",
    "- Dark blue cells are completly inside the geometry (pin == 0xFF)\n",
    "- Red colored nodes are inside the geometry"
   ]
  }
 ],
 "metadata": {
  "interpreter": {
   "hash": "31f2aee4e71d21fbe5cf8b01ff0e069b9275f58929596ceb00d14d90e3e16cd6"
  },
  "kernelspec": {
   "display_name": "Python 3 (ipykernel)",
   "language": "python",
   "name": "python3"
  },
  "language_info": {
   "codemirror_mode": {
    "name": "ipython",
    "version": 3
   },
   "file_extension": ".py",
   "mimetype": "text/x-python",
   "name": "python",
   "nbconvert_exporter": "python",
   "pygments_lexer": "ipython3",
   "version": "3.8.10"
  }
 },
 "nbformat": 4,
 "nbformat_minor": 4
}
